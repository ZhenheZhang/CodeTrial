{
 "cells": [
  {
   "attachments": {},
   "cell_type": "markdown",
   "metadata": {},
   "source": [
    "198. House Robber\n",
    "\n",
    "You are a professional robber planning to rob houses along a street. \n",
    "Each house has a certain amount of money stashed, \n",
    "the only constraint stopping you from robbing each of them is that \n",
    "adjacent houses have security systems connected and it will \n",
    "automatically contact the police if two adjacent houses were broken into on the same night.\n",
    "\n",
    "Given an integer array nums representing the amount of money of each house, return the maximum amount of money you can rob tonight without alerting the police.\n",
    "\n",
    "Example 1:\n",
    "Input: nums = [1,2,3,1]\n",
    "Output: 4\n",
    "Explanation: Rob house 1 (money = 1) and then rob house 3 (money = 3).\n",
    "Total amount you can rob = 1 + 3 = 4.\n",
    "\n",
    "Example 2:\n",
    "Input: nums = [2,7,9,3,1]\n",
    "Output: 12\n",
    "Explanation: Rob house 1 (money = 2), rob house 3 (money = 9) and rob house 5 (money = 1).\n",
    "Total amount you can rob = 2 + 9 + 1 = 12.\n",
    " \n",
    "\n",
    "Constraints:\n",
    "1 <= nums.length <= 100\n",
    "0 <= nums[i] <= 400\n",
    "\n",
    "来源：力扣（LeetCode）\n",
    "链接：https://leetcode.cn/problems/house-robber\n",
    "著作权归领扣网络所有。商业转载请联系官方授权，非商业转载请注明出处。"
   ]
  },
  {
   "cell_type": "code",
   "execution_count": 4,
   "metadata": {},
   "outputs": [
    {
     "name": "stdout",
     "output_type": "stream",
     "text": [
      "101\n",
      "15\n"
     ]
    }
   ],
   "source": [
    "class Solution(object):\n",
    "    def rob(self, nums):\n",
    "        \"\"\"\n",
    "        :type nums: List[int]\n",
    "        :rtype: int\n",
    "        \"\"\"\n",
    "        if not nums: \n",
    "            return 0\n",
    "        dp = [0 for _ in nums]\n",
    "        for i in range(len(nums)):\n",
    "            if i == 0:\n",
    "                dp[i] = nums[i]\n",
    "            elif i == 1:\n",
    "                dp[i] = max(nums[0], nums[1])\n",
    "            else:\n",
    "                dp[i] = max(dp[i-2]+nums[i], dp[i-1])\n",
    "        return dp[-1]\n",
    "\n",
    "\n",
    "solution = Solution()\n",
    "test_case1 = [1,2,3,99]\n",
    "test_case2 = [2,7,9,8,1]\n",
    "output1 = solution.rob(nums=test_case1)\n",
    "output2 = solution.rob(nums=test_case2)\n",
    "print(output1)\n",
    "print(output2)\n"
   ]
  }
 ],
 "metadata": {
  "kernelspec": {
   "display_name": "py37",
   "language": "python",
   "name": "python3"
  },
  "language_info": {
   "codemirror_mode": {
    "name": "ipython",
    "version": 3
   },
   "file_extension": ".py",
   "mimetype": "text/x-python",
   "name": "python",
   "nbconvert_exporter": "python",
   "pygments_lexer": "ipython3",
   "version": "3.7.16"
  },
  "orig_nbformat": 4,
  "vscode": {
   "interpreter": {
    "hash": "f46f602a9fb80e9e2e49bf94182631528f06d646b9958424248b38c6e6bffff3"
   }
  }
 },
 "nbformat": 4,
 "nbformat_minor": 2
}
