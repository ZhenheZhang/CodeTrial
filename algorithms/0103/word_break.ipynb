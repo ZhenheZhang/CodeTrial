{
 "cells": [
  {
   "cell_type": "code",
   "execution_count": 24,
   "metadata": {},
   "outputs": [
    {
     "name": "stdout",
     "output_type": "stream",
     "text": [
      "hello True go bearkitty False False\n",
      "go True   True True\n",
      "kitty True bear  False True\n",
      "bear True   True True\n",
      "True\n"
     ]
    }
   ],
   "source": [
    "def wordBreak(s, wordDict):\n",
    "    \"\"\"     \n",
    "        type s str\n",
    "        type wordDict List[str]\n",
    "        rtype bool\n",
    "    \"\"\"\n",
    "    def longest_continue_substring(text1:str, text2:str):\n",
    "        text1_length = len(text1)\n",
    "        text2_length = len(text2)\n",
    "        dp = [[0] * (text2_length + 1) for _ in range(text1_length + 1)]\n",
    "        ans_index = 0\n",
    "        ans_length = 0\n",
    "\n",
    "        for i in range(1, text1_length + 1):\n",
    "            for j in range(1, text2_length + 1):\n",
    "                if text1[i - 1] == text2[j - 1]:\n",
    "                    dp[i][j] = 1 + dp[i - 1][j - 1]\n",
    "                if dp[i][j] > ans_length:\n",
    "                    ans_index = i\n",
    "                    ans_length = dp[i][j]\n",
    "        return ans_length==text2_length, [text1[0 : ans_index - ans_length], text1[ans_index : ]]\n",
    "\n",
    "\n",
    "    def break_word(input_seq, word_dict):\n",
    "        for word in word_dict:\n",
    "            matched, residuals = longest_continue_substring(input_seq, word)\n",
    "            if matched:\n",
    "                sub_seq1 = residuals[0]\n",
    "                sub_seq2 = residuals[1]\n",
    "                print(word, matched, sub_seq1, sub_seq2, sub_seq1 == '', sub_seq2 == '')\n",
    "                if sub_seq1 == '' and sub_seq2 == '':\n",
    "                    return True\n",
    "                else:\n",
    "                    if sub_seq1 == '':\n",
    "                        return break_word(sub_seq2, word_dict)\n",
    "                    elif sub_seq2 == '':\n",
    "                        return break_word(sub_seq1, word_dict)\n",
    "                    else:\n",
    "                        if break_word(sub_seq1, word_dict) and break_word(sub_seq2, word_dict):\n",
    "                            return True\n",
    "        return False\n",
    "    \n",
    "\n",
    "    # call function    \n",
    "    return break_word(s, wordDict)\n",
    "\n",
    "\n",
    "input = 'gohellobearkitty'\n",
    "word_dict = ['hello', 'kitty', 'bear', 'go']\n",
    "print(wordBreak(input, word_dict))\n"
   ]
  }
 ],
 "metadata": {
  "kernelspec": {
   "display_name": "py37",
   "language": "python",
   "name": "python3"
  },
  "language_info": {
   "codemirror_mode": {
    "name": "ipython",
    "version": 3
   },
   "file_extension": ".py",
   "mimetype": "text/x-python",
   "name": "python",
   "nbconvert_exporter": "python",
   "pygments_lexer": "ipython3",
   "version": "3.7.15"
  },
  "orig_nbformat": 4,
  "vscode": {
   "interpreter": {
    "hash": "f46f602a9fb80e9e2e49bf94182631528f06d646b9958424248b38c6e6bffff3"
   }
  }
 },
 "nbformat": 4,
 "nbformat_minor": 2
}
