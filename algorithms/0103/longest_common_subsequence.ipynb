{
 "cells": [
  {
   "cell_type": "code",
   "execution_count": 3,
   "metadata": {},
   "outputs": [],
   "source": [
    "\"\"\"\n",
    "Longest Common Substring Problem Statement: Given two sequences, find the\n",
    "longest common substring present in both of them. A substring is\n",
    "necessarily continuous.\n",
    "Example: \"abcdef\" and \"xabded\" have two longest common substrings, \"ab\" or \"de\".\n",
    "Therefore, algorithm should return any one of them.\n",
    "\"\"\"\n",
    "\n",
    "def longest_common_substring(text1: str, text2: str) -> str:\n",
    "    if not (isinstance(text1, str) and isinstance(text2, str)):\n",
    "        raise ValueError(\"longest_common_substring() takes two strings for inputs\")\n",
    "\n",
    "    text1_length = len(text1)\n",
    "    text2_length = len(text2)\n",
    "\n",
    "    sub_string = []\n",
    "    for i in range(0, text1_length):\n",
    "        for j in range(0, text2_length):\n",
    "            if text1[i] == text2[j] and text1[i] not in sub_string:\n",
    "                sub_string.append(text1[i])\n",
    "    return \"\".join(sub_string)\n"
   ]
  },
  {
   "cell_type": "code",
   "execution_count": 5,
   "metadata": {},
   "outputs": [
    {
     "name": "stdout",
     "output_type": "stream",
     "text": [
      "EDG\n"
     ]
    }
   ],
   "source": [
    "if __name__ == \"__main__\":\n",
    "    a = \"ABCCEDG\"\n",
    "    b = \"GEDFEG\"\n",
    "    expected_ln = 3\n",
    "    expected_subseq = \"EDG\"\n",
    "    \n",
    "    print(longest_common_substring(a, b))"
   ]
  }
 ],
 "metadata": {
  "kernelspec": {
   "display_name": "py37",
   "language": "python",
   "name": "python3"
  },
  "language_info": {
   "codemirror_mode": {
    "name": "ipython",
    "version": 3
   },
   "file_extension": ".py",
   "mimetype": "text/x-python",
   "name": "python",
   "nbconvert_exporter": "python",
   "pygments_lexer": "ipython3",
   "version": "3.7.15"
  },
  "orig_nbformat": 4,
  "vscode": {
   "interpreter": {
    "hash": "f46f602a9fb80e9e2e49bf94182631528f06d646b9958424248b38c6e6bffff3"
   }
  }
 },
 "nbformat": 4,
 "nbformat_minor": 2
}
