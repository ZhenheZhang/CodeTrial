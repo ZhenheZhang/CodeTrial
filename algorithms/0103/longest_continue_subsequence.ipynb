{
 "cells": [
  {
   "cell_type": "code",
   "execution_count": 12,
   "metadata": {},
   "outputs": [],
   "source": [
    "\"\"\"\n",
    "Longest Common Substring Problem Statement: Given two sequences, find the\n",
    "longest common substring present in both of them. A substring is\n",
    "necessarily continuous.\n",
    "Example: \"abcdef\" and \"xabded\" have two longest common substrings, \"ab\" or \"de\".\n",
    "Therefore, algorithm should return any one of them.\n",
    "\"\"\"\n",
    "\n",
    "def longest_continue_substring(text1: str, text2: str) -> str:\n",
    "    if not (isinstance(text1, str) and isinstance(text2, str)):\n",
    "        raise ValueError(\"longest_common_substring() takes two strings for inputs\")\n",
    "\n",
    "    text1_length = len(text1)\n",
    "    text2_length = len(text2)\n",
    "\n",
    "    dp = [[0] * (text2_length + 1) for _ in range(text1_length + 1)]\n",
    "    ans_index = 0\n",
    "    ans_length = 0\n",
    "\n",
    "    for i in range(1, text1_length + 1):\n",
    "        for j in range(1, text2_length + 1):\n",
    "            if text1[i - 1] == text2[j - 1]:\n",
    "                dp[i][j] = 1 + dp[i - 1][j - 1]\n",
    "                if dp[i][j] > ans_length:\n",
    "                    ans_index = i\n",
    "                    ans_length = dp[i][j]\n",
    "\n",
    "    return text1[ans_index - ans_length : ans_index]\n"
   ]
  },
  {
   "cell_type": "code",
   "execution_count": 13,
   "metadata": {},
   "outputs": [
    {
     "name": "stdout",
     "output_type": "stream",
     "text": [
      "BCCE\n"
     ]
    }
   ],
   "source": [
    "if __name__ == \"__main__\":\n",
    "    a = \"ABCCE\"\n",
    "    b = \"GBCCEBECCE\"\n",
    "    expected_ln = 4\n",
    "    expected_subseq = \"BCCE\"\n",
    "    \n",
    "    print(longest_continue_substring(a, b))"
   ]
  }
 ],
 "metadata": {
  "kernelspec": {
   "display_name": "py37",
   "language": "python",
   "name": "python3"
  },
  "language_info": {
   "codemirror_mode": {
    "name": "ipython",
    "version": 3
   },
   "file_extension": ".py",
   "mimetype": "text/x-python",
   "name": "python",
   "nbconvert_exporter": "python",
   "pygments_lexer": "ipython3",
   "version": "3.7.15"
  },
  "orig_nbformat": 4,
  "vscode": {
   "interpreter": {
    "hash": "f46f602a9fb80e9e2e49bf94182631528f06d646b9958424248b38c6e6bffff3"
   }
  }
 },
 "nbformat": 4,
 "nbformat_minor": 2
}
