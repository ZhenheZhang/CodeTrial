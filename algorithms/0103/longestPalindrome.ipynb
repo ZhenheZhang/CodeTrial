{
 "cells": [
  {
   "cell_type": "code",
   "execution_count": 40,
   "metadata": {},
   "outputs": [
    {
     "name": "stdout",
     "output_type": "stream",
     "text": [
      "cbbabbc\n"
     ]
    }
   ],
   "source": [
    "### NOT FINISHED YET\n",
    "\n",
    "def longestPalindrome(s):\n",
    "    \"\"\"\n",
    "    :type s: str\n",
    "    :rtype: str\n",
    "    \"\"\"\n",
    "    s_length = len(s)\n",
    "    max_length = 0\n",
    "    palindromic = ''\n",
    "    if len(s) == 1:\n",
    "        return s\n",
    "    for i in range(s_length):\n",
    "        for j in range(i + 1, s_length):\n",
    "            is_palindromic = True\n",
    "            for k in range(i, int((i + j) / 2) + 1):\n",
    "                if s[k] != s[j - k + i]:\n",
    "                    is_palindromic = False\n",
    "                    break\n",
    "            if is_palindromic and (j - i + 1) > max_length:\n",
    "                max_length = j - i + 1\n",
    "                palindromic = s[i:j + 1]\n",
    "    if palindromic == '':\n",
    "        palindromic = s[0]\n",
    "    return palindromic\n",
    "\n",
    "\n",
    "result_str = longestPalindrome('bcbbabbc')\n",
    "print(result_str)\n"
   ]
  }
 ],
 "metadata": {
  "kernelspec": {
   "display_name": "py37",
   "language": "python",
   "name": "python3"
  },
  "language_info": {
   "codemirror_mode": {
    "name": "ipython",
    "version": 3
   },
   "file_extension": ".py",
   "mimetype": "text/x-python",
   "name": "python",
   "nbconvert_exporter": "python",
   "pygments_lexer": "ipython3",
   "version": "3.7.15"
  },
  "orig_nbformat": 4,
  "vscode": {
   "interpreter": {
    "hash": "f46f602a9fb80e9e2e49bf94182631528f06d646b9958424248b38c6e6bffff3"
   }
  }
 },
 "nbformat": 4,
 "nbformat_minor": 2
}
