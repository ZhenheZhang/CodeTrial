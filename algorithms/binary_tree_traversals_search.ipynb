{
 "cells": [
  {
   "cell_type": "code",
   "execution_count": 19,
   "metadata": {},
   "outputs": [],
   "source": [
    "from __future__ import annotations\n",
    "\n",
    "class Node:\n",
    "    \"\"\"\n",
    "    A Node has data variable and pointers to Nodes to its left and right\n",
    "    \"\"\"\n",
    "\n",
    "    def __init__(self, data: int, parent: Node) -> None:\n",
    "        self.data = data\n",
    "        self.parent = parent \n",
    "        self.left: Node | None = None   # iterative property\n",
    "        self.right: Node | None = None  # iterative property\n"
   ]
  },
  {
   "cell_type": "code",
   "execution_count": 18,
   "metadata": {},
   "outputs": [],
   "source": [
    "def display(tree: Node) -> None:\n",
    "    if tree:\n",
    "        display(tree.left)\n",
    "        print(tree.data)\n",
    "        display(tree.right)\n",
    "\n",
    "\n",
    "def depth_of_tree(tree: Node) -> int:\n",
    "    depth = 0\n",
    "    if tree:\n",
    "        depth = 1 + max(depth_of_tree(tree.left), depth_of_tree(tree.right))\n",
    "    return depth \n",
    "\n",
    "\n",
    "def is_full_binary_tree(tree: Node) -> bool:\n",
    "    if not tree:\n",
    "        return True\n",
    "    if tree.left and tree.right:\n",
    "        return is_full_binary_tree(tree.left) and is_full_binary_tree(tree.right)\n",
    "    else:\n",
    "        return not tree.left and not tree.right\n",
    "\n",
    "\n",
    "def make_tree():\n",
    "    \"\"\"\n",
    "    The example:\n",
    "\n",
    "    \"\"\"\n",
    "    root = Node(1, None)\n",
    "    root.left = Node(2, root)\n",
    "    root.right = Node(3, root)\n",
    "    root.left.left = Node(4, root.left)\n",
    "    root.left.right = Node(5, root.left)\n",
    "    root.left.right.left = Node(6, root.left.right)\n",
    "    root.right.left = Node(7, root.right)\n",
    "    root.right.left.left = Node(8, root.right.left)\n",
    "    root.right.left.left.right = Node(9, root.right.left.left)\n",
    "    return root\n",
    "\n",
    "    "
   ]
  },
  {
   "cell_type": "code",
   "execution_count": 17,
   "metadata": {},
   "outputs": [],
   "source": [
    "\"\"\"\n",
    "Traversals method: Pre_order\n",
    "\n",
    "\"\"\"\n",
    "def pre_order(root: Node | None) -> list[int]:\n",
    "    all_nodes = []\n",
    "    if root:\n",
    "        all_nodes = [root.data] + pre_order(root.left) + pre_order(root.right)\n",
    "    return all_nodes\n",
    "    "
   ]
  },
  {
   "cell_type": "code",
   "execution_count": 38,
   "metadata": {},
   "outputs": [],
   "source": [
    "\"\"\"\n",
    "Search\n",
    "\n",
    "\"\"\"\n",
    "\n",
    "def search_value(root: Node, value) -> Node | None:\n",
    "    # A naive implementation with pre-knowledge\n",
    "    if not root:\n",
    "        raise IndexError(\"Warning: Tree is empty! please use another.\")\n",
    "    else:\n",
    "        node = root\n",
    "        while node is not None and node.data is not value:\n",
    "            if node.left is not None and node.right is not None:\n",
    "                if node.left.data is value:\n",
    "                    node = node.left\n",
    "                elif node.right.data is value:\n",
    "                    node = node.right\n",
    "                else:\n",
    "                    # with pre-knowledge\n",
    "                    node = node.right if value > 6 else node.left\n",
    "            elif node.left is not None and node.right is None:\n",
    "                    node = node.left\n",
    "            elif node.left is None and node.right is not None:\n",
    "                    node = node.right\n",
    "            else:\n",
    "                node = None\n",
    "        return node\n",
    "\n",
    "\n",
    "def __search(node: Node) -> list[int]:\n",
    "    node_path = []\n",
    "    if node.parent:\n",
    "        node_path = [node.parent.data] + __search(node.parent)\n",
    "    return node_path\n",
    "\n",
    "\n",
    "def search_path(node: Node) -> list[int]:\n",
    "    return [node.data] + __search(node)\n",
    "\n",
    "\n",
    "def get_distance(root: Node, value1: int, value2: int) -> list[int]:\n",
    "    node1 = search_value(root, value1)\n",
    "    node2 = search_value(root, value2)\n",
    "    node1_path = search_path(node1)\n",
    "    node2_path = search_path(node2)\n",
    "    for step, value in enumerate(node1_path):\n",
    "        if value in node2_path:\n",
    "            return step + node2_path.index(value)\n",
    "    return []\n",
    "   "
   ]
  },
  {
   "cell_type": "code",
   "execution_count": 39,
   "metadata": {},
   "outputs": [
    {
     "name": "stdout",
     "output_type": "stream",
     "text": [
      "False\n",
      "5\n",
      "Tree is: \n",
      "4\n",
      "2\n",
      "6\n",
      "5\n",
      "1\n",
      "8\n",
      "9\n",
      "7\n",
      "3\n",
      "Pre-order Traversal: [1, 2, 4, 5, 6, 3, 7, 8, 9]\n",
      "Search value[9]: [9]\n",
      "Search path[9] result: [9, 8, 7, 3, 1]\n",
      "Get distance between[9] and [4]: 6\n"
     ]
    }
   ],
   "source": [
    "def main():\n",
    "    tree = make_tree()\n",
    "    print(is_full_binary_tree(tree))\n",
    "    print(depth_of_tree(tree))\n",
    "    print(\"Tree is: \")\n",
    "    display(tree)\n",
    "    print(\"Pre-order Traversal: {}\".format(pre_order(tree)))\n",
    "    print(\"Search value[{}]: {}\".format(9, pre_order(search_value(tree, 9))))\n",
    "    print(\"Search path[{}] result: {}\".format(9, search_path(search_value(tree, 9))))\n",
    "    print(\"Get distance between[{}] and [{}]: {}\".format(9, 4, get_distance(tree, 9, 4)))\n",
    "\n",
    "if __name__ == \"__main__\":\n",
    "    main()\n"
   ]
  }
 ],
 "metadata": {
  "kernelspec": {
   "display_name": "py37",
   "language": "python",
   "name": "python3"
  },
  "language_info": {
   "codemirror_mode": {
    "name": "ipython",
    "version": 3
   },
   "file_extension": ".py",
   "mimetype": "text/x-python",
   "name": "python",
   "nbconvert_exporter": "python",
   "pygments_lexer": "ipython3",
   "version": "3.7.15 (default, Nov 24 2022, 18:44:54) [MSC v.1916 64 bit (AMD64)]"
  },
  "orig_nbformat": 4,
  "vscode": {
   "interpreter": {
    "hash": "f46f602a9fb80e9e2e49bf94182631528f06d646b9958424248b38c6e6bffff3"
   }
  }
 },
 "nbformat": 4,
 "nbformat_minor": 2
}
