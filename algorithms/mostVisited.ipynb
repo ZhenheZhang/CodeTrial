{
 "cells": [
  {
   "cell_type": "code",
   "execution_count": 18,
   "metadata": {},
   "outputs": [
    {
     "name": "stdout",
     "output_type": "stream",
     "text": [
      "[2]\n"
     ]
    }
   ],
   "source": [
    "def sort_visited_points(in_list, n):\n",
    "    ranking_list = [0] * n\n",
    "    for element in in_list:\n",
    "        ranking_list[element - 1] += 1\n",
    "    m = max(ranking_list)\n",
    "    return [i + 1 for i, j in enumerate(ranking_list) if j == m]\n",
    "\n",
    "\n",
    "def mostVisited(n, rounds):\n",
    "    \"\"\"\n",
    "    :type n: int\n",
    "    :type rounds: List[int]\n",
    "    :rtype: List[int]\n",
    "    \"\"\"\n",
    "    visited_points = []\n",
    "    for i in range(1, len(rounds)):\n",
    "        distance = rounds[i] - rounds[i - 1]\n",
    "        if distance < 0:\n",
    "            # closed a loop period\n",
    "            real_distance = distance + n\n",
    "            for j in range(real_distance):\n",
    "                visited_points.append(((rounds[i - 1] + j) - 1) % n + 1)\n",
    "        else:\n",
    "            for j in range(distance):\n",
    "                visited_points.append((rounds[i - 1] + j))\n",
    "        \n",
    "        if i == len(rounds) - 1:\n",
    "            visited_points.append(rounds[i])\n",
    "    \n",
    "    return sort_visited_points(visited_points, n)\n",
    "            \n",
    "print(mostVisited(n=2, rounds=[2,1,2,1,2,1,2,1,2]))\n"
   ]
  }
 ],
 "metadata": {
  "kernelspec": {
   "display_name": "py37",
   "language": "python",
   "name": "python3"
  },
  "language_info": {
   "codemirror_mode": {
    "name": "ipython",
    "version": 3
   },
   "file_extension": ".py",
   "mimetype": "text/x-python",
   "name": "python",
   "nbconvert_exporter": "python",
   "pygments_lexer": "ipython3",
   "version": "3.7.15"
  },
  "orig_nbformat": 4,
  "vscode": {
   "interpreter": {
    "hash": "f46f602a9fb80e9e2e49bf94182631528f06d646b9958424248b38c6e6bffff3"
   }
  }
 },
 "nbformat": 4,
 "nbformat_minor": 2
}
