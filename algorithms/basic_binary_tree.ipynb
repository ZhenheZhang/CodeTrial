{
 "cells": [
  {
   "cell_type": "code",
   "execution_count": 10,
   "metadata": {},
   "outputs": [],
   "source": [
    "class Node:\n",
    "    \"\"\"\n",
    "    A Node has data variable and pointers to Nodes to its left and right\n",
    "    \"\"\"\n",
    "\n",
    "    def __init__(self, data: int) -> None:\n",
    "        self.data = data\n",
    "        self.left: Node | None = None   # iterative property\n",
    "        self.right: Node | None = None  # iterative property\n"
   ]
  },
  {
   "cell_type": "code",
   "execution_count": 6,
   "metadata": {},
   "outputs": [],
   "source": [
    "def display(tree: Node) -> None:\n",
    "    if tree:\n",
    "        display(tree.left)\n",
    "        print(tree.data)\n",
    "        display(tree.right)\n",
    "\n",
    "\n",
    "def depth_of_tree(tree: Node) -> int:\n",
    "    depth = 0\n",
    "    if tree:\n",
    "        depth = 1 + max(depth_of_tree(tree.left), depth_of_tree(tree.right))\n",
    "    return depth \n",
    "\n",
    "\n",
    "def is_full_binary_tree(tree: Node) -> bool:\n",
    "    if not tree:\n",
    "        return True\n",
    "    if tree.left and tree.right:\n",
    "        return is_full_binary_tree(tree.left) and is_full_binary_tree(tree.right)\n",
    "    else:\n",
    "        return not tree.left and not tree.right\n"
   ]
  },
  {
   "cell_type": "code",
   "execution_count": 11,
   "metadata": {},
   "outputs": [
    {
     "name": "stdout",
     "output_type": "stream",
     "text": [
      "False\n",
      "5\n",
      "Tree is: \n",
      "4\n",
      "2\n",
      "6\n",
      "5\n",
      "1\n",
      "8\n",
      "9\n",
      "7\n",
      "3\n"
     ]
    }
   ],
   "source": [
    "def main():\n",
    "    tree = Node(1)\n",
    "    tree.left = Node(2)\n",
    "    tree.right = Node(3)\n",
    "    tree.left.left = Node(4)\n",
    "    tree.left.right = Node(5)\n",
    "    tree.left.right.left = Node(6)\n",
    "    tree.right.left = Node(7)\n",
    "    tree.right.left.left = Node(8)\n",
    "    tree.right.left.left.right = Node(9)\n",
    "\n",
    "    print(is_full_binary_tree(tree))\n",
    "    print(depth_of_tree(tree))\n",
    "    print(\"Tree is: \")\n",
    "    display(tree)\n",
    "\n",
    "\n",
    "if __name__ == \"__main__\":\n",
    "    main()\n"
   ]
  }
 ],
 "metadata": {
  "kernelspec": {
   "display_name": "py37",
   "language": "python",
   "name": "python3"
  },
  "language_info": {
   "codemirror_mode": {
    "name": "ipython",
    "version": 3
   },
   "file_extension": ".py",
   "mimetype": "text/x-python",
   "name": "python",
   "nbconvert_exporter": "python",
   "pygments_lexer": "ipython3",
   "version": "3.7.15 (default, Nov 24 2022, 18:44:54) [MSC v.1916 64 bit (AMD64)]"
  },
  "orig_nbformat": 4,
  "vscode": {
   "interpreter": {
    "hash": "f46f602a9fb80e9e2e49bf94182631528f06d646b9958424248b38c6e6bffff3"
   }
  }
 },
 "nbformat": 4,
 "nbformat_minor": 2
}
