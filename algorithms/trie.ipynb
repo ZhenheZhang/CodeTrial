{
 "cells": [
  {
   "cell_type": "code",
   "execution_count": null,
   "metadata": {},
   "outputs": [],
   "source": [
    "\"\"\"\n",
    "A Trie/Prefix Tree is a kind of search tree used to provide quick lookup\n",
    "of words/patterns in a set of words. A basic Trie however has O(n^2) space complexity\n",
    "making it impractical in practice. It however provides O(max(search_string, length of\n",
    "longest word)) lookup time making it an optimal approach when space is not an issue.\n",
    "\"\"\"\n"
   ]
  }
 ],
 "metadata": {
  "language_info": {
   "name": "python"
  },
  "orig_nbformat": 4
 },
 "nbformat": 4,
 "nbformat_minor": 2
}
