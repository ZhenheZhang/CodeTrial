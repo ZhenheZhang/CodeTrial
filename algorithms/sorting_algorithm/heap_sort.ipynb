{
 "cells": [
  {
   "attachments": {},
   "cell_type": "markdown",
   "metadata": {
    "collapsed": true,
    "pycharm": {
     "name": "#%% md\n"
    }
   },
   "source": [
    "## 堆排序(Heap Sort)\n",
    ">堆排序的思想: 堆是一种数据结构，可以将堆看作一棵完全二叉树，这棵二叉树满足任何一个非叶节点的值都不大于（或不小于）其左右孩子节点的值。\n",
    "1. 将一个无序序列调整为一个堆，就可以找出这个序列的最大值（或最小值）\n",
    "2. 然后将找出的这个值交换到序列的最后一个，这样有序序列元素就增加一个，无序序列元素就减少一个，对新的无序序列重复这样的操作，就实现了排序。\n",
    "\n",
    "### 算法原理\n",
    "1. 从无序序列所确定的完全二叉树的第一个非叶子节点开始，从右至左，从下至上，\n",
    "对每个节点进行调整，最终将得到一个大顶堆。对节点的调整方法：\n",
    "将当前节点（假设为a）的值与其孩子节点进行比较，如果存在大于a的值的孩子节点，\n",
    "则从中选出最大的一个与a交换。当a来到下一层的时候重复上述过程，\n",
    "直到a的孩子节点的值都小于a为止；\n",
    "2. 将当前无序序列中的第一个元素（反映在数中是根节点b），\n",
    "与无序序列中的最后一个元素交换（假设为c），b进入有序序列，\n",
    "到达最终位置。无序序列元素减少1个，有序序列元素增加1个，\n",
    "此时只有节点c可能不满足堆的定义，对其进行调整；\n",
    "3. 重复2 的过程，直到无序序列的元素剩下一个时排序结束。"
   ]
  },
  {
   "cell_type": "code",
   "execution_count": 3,
   "metadata": {
    "collapsed": false,
    "pycharm": {
     "is_executing": false,
     "name": "#%%\n"
    }
   },
   "outputs": [],
   "source": [
    "from typing import List\n",
    "\n",
    "def adjust_heap(arr:List[int], parent):\n",
    "    length = len(arr)\n",
    "    parent_value = arr[parent]\n",
    "    child = parent * 2 + 1\n",
    "    while child < length:\n",
    "        if child + 1 < length and arr[child + 1] > arr[child]:\n",
    "            child += 1\n",
    "\n",
    "        if arr[child] <= parent_value:\n",
    "            break\n",
    "        arr[parent] = arr[child]\n",
    "        parent = child\n",
    "        child = 2 * parent + 1\n",
    "    arr[parent] = parent_value\n",
    "\n",
    "\n",
    "def heap_sort_outplace(arr:List[int], result=None):\n",
    "    if len(arr) == 1:\n",
    "        result.append(arr[0])\n",
    "        return arr\n",
    "    if result is None:\n",
    "        result = []\n",
    "    parents = [i for i in range(len(arr))]\n",
    "    parents.reverse()\n",
    "    for parent in parents:\n",
    "        adjust_heap(arr, parent)\n",
    "\n",
    "    tmp = arr[0]\n",
    "    arr[0] = arr[len(arr) - 1]\n",
    "    arr[len(arr) - 1] = tmp\n",
    "\n",
    "    result.append(arr.pop())\n",
    "    heap_sort_outplace(arr, result)\n",
    "    return result\n",
    "\n",
    "def build(arr:List[int], root, end):\n",
    "    while True:\n",
    "        child = 2 * root + 1 # 由于堆是一个完全二叉树，所以可以根据其特性，推算出左子节点的位置\n",
    "        if child > end: # 若左子节点超过了最后一个节点，则终止循环\n",
    "            break\n",
    "        if (child + 1 <= end) and (arr[child + 1] > arr[child]): # 若右子节点在最后一个节点之前，并且右子节点比左子节点大，则我们的孩子指针移到右子节点上\n",
    "            child += 1\n",
    "        if arr[child] > arr[root]: # 若最大的孩子节点大于根节点，则交换两者顺序，并且将根节点指针，移到这个孩子节点上\n",
    "            arr[child], arr[root] = arr[root], arr[child]\n",
    "            root = child\n",
    "        else:\n",
    "            break\n",
    "\n",
    "def heap_sort(arr:List[int]):\n",
    "    n = len(arr)\n",
    "    first_root = n // 2 - 1                     # 首先根据完全二叉树的性质，确认最深最后的那个根节点的位置\n",
    "    for root in range(first_root, -1, -1):      # 由后向前遍历所有的根节点，建堆并进行调整\n",
    "        build(arr, root, n - 1)\n",
    "        \n",
    "    for end in range(n - 1, 0, -1):             # 调整完成后，将堆顶的根节点与堆内最后一个元素调换位置，此时为数组中最大的元素，然后重新调整堆，将最大的元素冒到堆顶。依次重复上述操作\n",
    "        arr[0], arr[end] = arr[end], arr[0]\n",
    "        build(arr, 0, end - 1)\n",
    "    "
   ]
  },
  {
   "cell_type": "code",
   "execution_count": 4,
   "metadata": {
    "collapsed": false,
    "pycharm": {
     "is_executing": false,
     "name": "#%%\n"
    }
   },
   "outputs": [
    {
     "name": "stdout",
     "output_type": "stream",
     "text": [
      "原始数据： [17, 56, 71, 38, 61, 62, 48, 28, 57, 42]\n",
      "堆排序结果： [17, 28, 38, 42, 48, 56, 57, 61, 62, 71]\n"
     ]
    }
   ],
   "source": [
    "if __name__ == '__main__':\n",
    "    import random\n",
    "    random.seed(54)\n",
    "    arr = [random.randint(0,100) for _ in range(10)]\n",
    "    print(\"原始数据：\", arr)\n",
    "    heap_sort(arr)\n",
    "    print(\"堆排序结果：\", arr)\n",
    "    \n",
    "    # arr_new = heap_sort_outplace(arr)\n",
    "    # print(arr_new)"
   ]
  }
 ],
 "metadata": {
  "kernelspec": {
   "display_name": "Python 3",
   "language": "python",
   "name": "python3"
  },
  "language_info": {
   "codemirror_mode": {
    "name": "ipython",
    "version": 2
   },
   "file_extension": ".py",
   "mimetype": "text/x-python",
   "name": "python",
   "nbconvert_exporter": "python",
   "pygments_lexer": "ipython2",
   "version": "2.7.6"
  },
  "pycharm": {
   "stem_cell": {
    "cell_type": "raw",
    "metadata": {
     "collapsed": false
    },
    "source": []
   }
  }
 },
 "nbformat": 4,
 "nbformat_minor": 0
}
