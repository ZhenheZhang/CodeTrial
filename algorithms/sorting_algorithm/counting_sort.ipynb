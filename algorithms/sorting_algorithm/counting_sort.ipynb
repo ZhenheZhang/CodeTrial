{
 "cells": [
  {
   "cell_type": "markdown",
   "metadata": {
    "collapsed": true,
    "pycharm": {
     "name": "#%% md\n"
    }
   },
   "source": [
    "## 计数排序(Counting Sort)\n",
    ">计数排序不是基于比较的排序算法，其核心在于将输入的数据值转化为键存储在额外开辟的数组空间中。 \n",
    ">作为一种线性时间复杂度的排序，计数排序要求输入的数据必须是有确定范围的整数。\n",
    ">计数排序的基本思想在于给定的输入序列中的每一个元素x，\n",
    ">确定该序列中值小于等于x元素的个数，\n",
    ">然后将x直接存放到最终的排序序列的正确位置上。\n",
    "\n",
    "### 算法原理\n",
    "1. 找出待排序的数组中最大和最小的元素；\n",
    "2. 统计数组中每个值为i的元素出现的次数，存入数组C的第i项；（由于这个原因，要排序的数必须在大于等于0，且由于时间复杂度的问题，数组元素的上限也有一定的限制，否则，时间复杂度不如比较类排序。）\n",
    "3. 对所有的计数累加（从C中的第一个元素开始，每一项和前一项相加）；\n",
    "4. 反向填充目标数组：将每个元素i放在新数组的第C(i)项，每放一个元素就将C(i)减去1.\n"
   ]
  },
  {
   "cell_type": "code",
   "execution_count": 1,
   "outputs": [],
   "source": [
    "from typing import List\n",
    "    \n",
    "def counting_sort(arr:List[int]):\n",
    "\tmax=min=0\n",
    "\tfor i in arr:\n",
    "\t\tif i < min:\n",
    "\t\t\tmin = i\n",
    "\t\tif i > max:\n",
    "\t\t\tmax = i \n",
    "\tcount = [0] * (max - min +1)\n",
    "\tfor j in range(max-min+1):\n",
    "\t\tcount[j]=0\n",
    "\tfor index in arr:\n",
    "\t\tcount[index-min]+=1\n",
    "\tindex=0\n",
    "\tfor a in range(max-min+1):\n",
    "\t\tfor c in range(count[a]):\n",
    "\t\t\tarr[index]=a+min\n",
    "\t\t\tindex+=1"
   ],
   "metadata": {
    "collapsed": false,
    "pycharm": {
     "name": "#%%\n",
     "is_executing": false
    }
   }
  },
  {
   "cell_type": "code",
   "execution_count": 2,
   "outputs": [
    {
     "name": "stdout",
     "text": [
      "原始数据： [17, 56, 71, 38, 61, 62, 48, 28, 57, 42]\n计数排序结果 [17, 28, 38, 42, 48, 56, 57, 61, 62, 71]\n"
     ],
     "output_type": "stream"
    }
   ],
   "source": [
    "if __name__ == '__main__':\n",
    "    import random\n",
    "    random.seed(54)\n",
    "    arr = [random.randint(0,100) for _ in range(10)]\n",
    "    print(\"原始数据：\", arr)\n",
    "    counting_sort(arr)\n",
    "    print(\"计数排序结果\", arr)"
   ],
   "metadata": {
    "collapsed": false,
    "pycharm": {
     "name": "#%%\n",
     "is_executing": false
    }
   }
  }
 ],
 "metadata": {
  "kernelspec": {
   "display_name": "Python 3",
   "language": "python",
   "name": "python3"
  },
  "language_info": {
   "codemirror_mode": {
    "name": "ipython",
    "version": 2
   },
   "file_extension": ".py",
   "mimetype": "text/x-python",
   "name": "python",
   "nbconvert_exporter": "python",
   "pygments_lexer": "ipython2",
   "version": "2.7.6"
  }
 },
 "nbformat": 4,
 "nbformat_minor": 0
}