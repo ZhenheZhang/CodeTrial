{
 "cells": [
  {
   "attachments": {},
   "cell_type": "markdown",
   "metadata": {},
   "source": [
    "## 冒泡排序(Bubble Sort)\n",
    "> 冒泡排序是一种基础的排序算法，属于交换排序的一种，\n",
    ">基本的排序思路是：从头开始两两元素进行比较，大的元素就往上冒，\n",
    ">这样遍历一轮后，最大的元素就会直接筛选出来。然后再重复上述操作，\n",
    ">即可完成第二大元素的冒泡。以此类推，直到所有的元素排序完成。\n",
    "\n",
    "### 算法原理\n",
    "1. 比较相邻的元素，如果第一个比第二个大，就交换它们两个(确定排序规则：从小到大或从大到小)；\n",
    "2. 对每一对相邻元素做同样的工作，从开始第一对到结尾的最后一对；\n",
    "3. 针对所有的元素重复以上的步骤，除了最后一个；\n",
    "4. 重复步骤1~3，直到排序完成。\n"
   ]
  },
  {
   "cell_type": "code",
   "execution_count": 3,
   "metadata": {
    "pycharm": {
     "is_executing": false
    }
   },
   "outputs": [],
   "source": [
    "from typing import List\n",
    "\n",
    "\n",
    "# 冒泡排序\n",
    "def bubble_sort(arr: List[int]):\n",
    "    \"\"\"\n",
    "    冒泡排序\n",
    "    :param arr: 待排序的List\n",
    "    :return: 冒泡排序是就地排序(in-place)\n",
    "    \"\"\"\n",
    "    length = len(arr)\n",
    "    if length <= 1:\n",
    "        return\n",
    "\n",
    "    for i in range(length):\n",
    "        is_made_swap = False  ## 设置标志位，若本身已经有序，则直接break\n",
    "        for j in range(length - i - 1):\n",
    "            if arr[j] > arr[j + 1]:\n",
    "                arr[j], arr[j + 1] = arr[j + 1], arr[j]\n",
    "                is_made_swap = True\n",
    "        if not is_made_swap:\n",
    "            break\n"
   ]
  },
  {
   "cell_type": "code",
   "execution_count": 4,
   "metadata": {
    "pycharm": {
     "is_executing": false
    }
   },
   "outputs": [
    {
     "name": "stdout",
     "output_type": "stream",
     "text": [
      "原始数据： [17, 56, 71, 38, 61, 62, 48, 28, 57, 42]\n",
      "冒泡排序结果： [17, 28, 38, 42, 48, 56, 57, 61, 62, 71]\n"
     ]
    }
   ],
   "source": [
    "if __name__ == '__main__':\n",
    "    import random\n",
    "    random.seed(54)\n",
    "    arr = [random.randint(0,100) for _ in range(10)]\n",
    "    print(\"原始数据：\", arr)\n",
    "    bubble_sort(arr)\n",
    "    print(\"冒泡排序结果：\", arr)"
   ]
  }
 ],
 "metadata": {
  "kernelspec": {
   "display_name": "Python 3",
   "language": "python",
   "name": "python3"
  },
  "language_info": {
   "codemirror_mode": {
    "name": "ipython",
    "version": 3
   },
   "file_extension": ".py",
   "mimetype": "text/x-python",
   "name": "python",
   "nbconvert_exporter": "python",
   "pygments_lexer": "ipython3",
   "version": "3.7.5"
  },
  "pycharm": {
   "stem_cell": {
    "cell_type": "raw",
    "metadata": {
     "collapsed": false
    },
    "source": []
   }
  }
 },
 "nbformat": 4,
 "nbformat_minor": 1
}
