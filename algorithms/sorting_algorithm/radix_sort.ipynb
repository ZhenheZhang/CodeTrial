{
 "cells": [
  {
   "attachments": {},
   "cell_type": "markdown",
   "metadata": {
    "collapsed": true,
    "pycharm": {
     "name": "#%% md\n"
    }
   },
   "source": [
    "# GOT !\n",
    "\n",
    "## 基数排序(Radix Sort)\n",
    ">基数排序是一种非常有意思的排序。对于数值偏小的一组序列，其速度是非常快的，\n",
    ">时间复杂度达到了线性，而且思想也非常的巧妙。\n",
    "1. 按照个位数的大小，分别放入10个队列中，然后采用先进先出的原则，摆回去\n",
    "2. 再对十位数进行相同的操作。以此类推，直至最后最大一个数的那个数位结束了\n",
    ">这种操作，最终我们就得到排好序的数列。\n",
    "\n",
    "### 算法原理\n",
    "1. 取得数组中的最大数，并取得位数；\n",
    "2. 分配，先从个位开始，根据位值(0-9)分别放到0~9号桶中;\n",
    "3. 收集，再将放置在0~9号桶中的数据按顺序放到数组中;\n",
    "4. 重复2~3过程，从个位到最高位，直到排好序为止。"
   ]
  },
  {
   "cell_type": "code",
   "execution_count": 12,
   "metadata": {
    "collapsed": false,
    "pycharm": {
     "is_executing": false,
     "name": "#%%\n"
    }
   },
   "outputs": [
    {
     "name": "stdout",
     "output_type": "stream",
     "text": [
      "原始数据： [17, 56, 71, 38, 61, 62, 48, 28, 57, 42]\n",
      "位数[0] 排序结果：[71, 61, 62, 42, 56, 17, 57, 38, 48, 28]\n",
      "位数[1] 排序结果：[17, 28, 38, 42, 48, 56, 57, 61, 62, 71]\n",
      "计数排序结果为： [17, 28, 38, 42, 48, 56, 57, 61, 62, 71]\n"
     ]
    }
   ],
   "source": [
    "from typing import List\n",
    "\n",
    "BUCKET_SIZE = 10\n",
    "\n",
    "def radix_sort(arr: List[int]):\n",
    "    n = len(str(max(arr)))                                          # 记录最大值的位数\n",
    "    for k in range(n):                                              # n轮排序\n",
    "        bucket_list=[[] for i in range(BUCKET_SIZE)]                # 因为每一位数字都是0~9，故建立10个桶\n",
    "        for i in arr:\n",
    "            bucket_list[i//(BUCKET_SIZE**k)%BUCKET_SIZE].append(i)  # 按第k位放入到桶中                                                    \n",
    "        arr=[j for i in bucket_list for j in i]                     # 按当前桶的顺序重排列表\n",
    "        print(\"位数[{}] 排序结果：{}\".format(k, arr))\n",
    "    return arr\n",
    "\n",
    "\n",
    "if __name__ == '__main__':\n",
    "    import random\n",
    "    random.seed(54)\n",
    "    arr = [random.randint(0,100) for _ in range(10)]\n",
    "    print(\"原始数据：\", arr)\n",
    "    arr_new = radix_sort(arr)\n",
    "    print(\"计数排序结果为：\", arr_new)"
   ]
  }
 ],
 "metadata": {
  "kernelspec": {
   "display_name": "Python 3",
   "language": "python",
   "name": "python3"
  },
  "language_info": {
   "codemirror_mode": {
    "name": "ipython",
    "version": 3
   },
   "file_extension": ".py",
   "mimetype": "text/x-python",
   "name": "python",
   "nbconvert_exporter": "python",
   "pygments_lexer": "ipython3",
   "version": "3.7.16"
  },
  "pycharm": {
   "stem_cell": {
    "cell_type": "raw",
    "metadata": {
     "collapsed": false
    },
    "source": []
   }
  }
 },
 "nbformat": 4,
 "nbformat_minor": 0
}
