{
 "cells": [
  {
   "cell_type": "markdown",
   "metadata": {
    "collapsed": true,
    "pycharm": {
     "name": "#%% md\n"
    }
   },
   "source": [
    "## 桶排序(Bucket Sort)\n",
    ">桶排序或所谓的箱排序，是一个排序算法，工作的原理是将数组分到有限数量的桶里。\n",
    ">每个桶再个别排序（有可能再使用别的排序算法或是以递归方式继续使用桶排序进行排序），\n",
    ">最后依次把各个桶中的记录列出来记得到有序序列。\n",
    "\n",
    "### 算法原理\n",
    "1. 设置一个定量的数组当作空桶；\n",
    "2. 遍历输入数据，并且把数据一个一个放到对应的桶里去；\n",
    "3. 对每个不是空的桶进行排序；\n",
    "4. 按顺序访问桶，将桶中的元素依次放回到原序列中对应的位置。\n"
   ]
  },
  {
   "cell_type": "code",
   "execution_count": 1,
   "outputs": [],
   "source": [
    "from typing import List\n",
    "\n",
    "def bucket_sort(arr:List[int]):\n",
    "    \"\"\"桶排序\"\"\"\n",
    "    min_num = min(arr)\n",
    "    max_num = max(arr)\n",
    "    # 桶的大小\n",
    "    bucket_range = (max_num-min_num) / len(arr)\n",
    "    # 桶数组\n",
    "    count_list = [ [] for i in range(len(arr) + 1)]\n",
    "    # 向桶数组填数\n",
    "    for i in arr:\n",
    "        count_list[int((i-min_num)//bucket_range)].append(i)\n",
    "    arr.clear()\n",
    "    # 回填，这里桶内部排序直接调用了sorted\n",
    "    for i in count_list:\n",
    "        for j in sorted(i):\n",
    "            arr.append(j)"
   ],
   "metadata": {
    "collapsed": false,
    "pycharm": {
     "name": "#%%\n",
     "is_executing": false
    }
   }
  },
  {
   "cell_type": "code",
   "execution_count": 2,
   "outputs": [
    {
     "name": "stdout",
     "text": [
      "原始数据： [17, 56, 71, 38, 61, 62, 48, 28, 57, 42]\n桶排序结果： [17, 28, 38, 42, 48, 56, 57, 61, 62, 71]\n"
     ],
     "output_type": "stream"
    }
   ],
   "source": [
    "if __name__ == '__main__':\n",
    "    import random\n",
    "    random.seed(54)\n",
    "    arr = [random.randint(0,100) for _ in range(10)]\n",
    "    print(\"原始数据：\", arr)\n",
    "    bucket_sort(arr)\n",
    "    print(\"桶排序结果：\", arr)"
   ],
   "metadata": {
    "collapsed": false,
    "pycharm": {
     "name": "#%%\n",
     "is_executing": false
    }
   }
  }
 ],
 "metadata": {
  "kernelspec": {
   "display_name": "Python 3",
   "language": "python",
   "name": "python3"
  },
  "language_info": {
   "codemirror_mode": {
    "name": "ipython",
    "version": 2
   },
   "file_extension": ".py",
   "mimetype": "text/x-python",
   "name": "python",
   "nbconvert_exporter": "python",
   "pygments_lexer": "ipython2",
   "version": "2.7.6"
  }
 },
 "nbformat": 4,
 "nbformat_minor": 0
}