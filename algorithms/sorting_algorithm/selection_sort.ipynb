{
 "cells": [
  {
   "cell_type": "markdown",
   "metadata": {
    "collapsed": true,
    "pycharm": {
     "name": "#%% md\n"
    }
   },
   "source": [
    "## 选择排序(Selection Sort)\n",
    ">选择排序是一种简单直观的排序算法。它的工作原理：\n",
    ">首先在未排序序列中找到最小（大）元素，\n",
    ">存放到排序序列的起始位置，然后，\n",
    ">再从剩余未排序元素中继续寻找最小（大）元素，\n",
    ">然后放到已排序序列的末尾。以此类推，\n",
    ">直到所有元素均排序完毕。\n",
    "\n",
    "### 算法原理\n",
    "1. 初始状态：无序区为R[1..n]，有序区为空；\n",
    "2. 第i趟排序(i=1,2,3…n-1)开始时，当前有序区和无序区分别为R[1..i-1]和R(i..n）。该趟排序从当前无序区中-选出关键字最小的记录 R[k]，将它与无序区的第1个记录R交换，使R[1..i]和R[i+1..n)分别变为记录个数增加1个的新有序区和记录个数减少1个的新无序区；\n",
    "3. n-1趟结束，数组有序化了。\n"
   ]
  },
  {
   "cell_type": "code",
   "execution_count": 13,
   "outputs": [],
   "source": [
    "from typing import List\n",
    "\n",
    "def selection_sort(arr: List[int]):\n",
    "    \"\"\"\n",
    "    选择排序\n",
    "    :param arr: 待排序的List\n",
    "    :return: 选择排序是就地排序(in-place)\n",
    "    \"\"\"\n",
    "    length = len(arr)\n",
    "    if length <= 1:\n",
    "        return\n",
    "\n",
    "    for i in range(length):\n",
    "        min_index = i\n",
    "        min_val = arr[i]\n",
    "        for j in range(i, length):\n",
    "            if arr[j] <= min_val:\n",
    "                min_val = arr[j]\n",
    "                min_index = j\n",
    "        arr[i], arr[min_index] = arr[min_index], arr[i]"
   ],
   "metadata": {
    "collapsed": false,
    "pycharm": {
     "name": "#%%\n",
     "is_executing": false
    }
   }
  },
  {
   "cell_type": "code",
   "execution_count": 14,
   "outputs": [
    {
     "name": "stdout",
     "text": [
      "原始数据： [1, 4, 5, 3, 8, 7, 6, 5, 3, 2, 3, 3, 1, 1, 1]\n选择排序结果： [1, 1, 1, 1, 2, 3, 3, 3, 3, 4, 5, 5, 6, 7, 8]\n"
     ],
     "output_type": "stream"
    }
   ],
   "source": [
    "if __name__ == '__main__':\n",
    "    import random\n",
    "    random.seed(54)\n",
    "    # arr = [random.randint(0,100) for _ in range(10)]\n",
    "    arr=[1,4,5,3,8,7,6,5,3,2,3,3,1,1,1]\n",
    "    print(\"原始数据：\", arr)\n",
    "    selection_sort(arr)\n",
    "    print(\"选择排序结果：\", arr)"
   ],
   "metadata": {
    "collapsed": false,
    "pycharm": {
     "name": "#%%\n",
     "is_executing": false
    }
   }
  }
 ],
 "metadata": {
  "kernelspec": {
   "display_name": "Python 3",
   "language": "python",
   "name": "python3"
  },
  "language_info": {
   "codemirror_mode": {
    "name": "ipython",
    "version": 2
   },
   "file_extension": ".py",
   "mimetype": "text/x-python",
   "name": "python",
   "nbconvert_exporter": "python",
   "pygments_lexer": "ipython2",
   "version": "2.7.6"
  }
 },
 "nbformat": 4,
 "nbformat_minor": 0
}