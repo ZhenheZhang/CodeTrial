{
 "cells": [
  {
   "cell_type": "markdown",
   "metadata": {
    "collapsed": true,
    "pycharm": {
     "name": "#%% md\n"
    }
   },
   "source": [
    "## 快速排序(Quick Sort)\n",
    ">快速排序的基本思想:选一基准元素，依次将剩余元素中小于该基准元素的值放置其左侧，\n",
    ">大于等于该基准元素的值放置其右侧；然后，取基准元素的前半部分和后半部分\n",
    ">分别进行同样的处理；以此类推，直至各子序列剩余一个元素时，\n",
    ">即排序完成（类比二叉树的思想)\n",
    "\n",
    "### 算法原理\n",
    "1. 从数列中挑出一个元素，称为 “基准”（pivot）；\n",
    "2. 重新排序数列，所有元素比基准值小的摆放在基准前面，\n",
    "所有元素比基准值大的摆在基准的后面（相同的数可以到任一边）。\n",
    "在这个分区退出之后，该基准就处于数列的中间位置。这个称为分区（partition）操作；\n",
    "3. 递归地（recursive）把小于基准值元素的子数列和大于基准值元素的子数列排序。\n"
   ]
  },
  {
   "cell_type": "code",
   "execution_count": 1,
   "outputs": [],
   "source": [
    "from typing import List\n",
    "\n",
    "def quick_sort_outplace(arr: List[int]):\n",
    "    \"\"\"\n",
    "    快速排序(out-place)\n",
    "    :param arr: 待排序的List\n",
    "    :return: 输出新的排序好的List(out-place)\n",
    "    \"\"\"\n",
    "    if len(arr) <= 1:\n",
    "        return arr\n",
    "    \n",
    "    mid, left, right = arr[0], [], []\n",
    "    for i in arr[1:]:\n",
    "        if i < mid:\n",
    "            left.append(i)\n",
    "        else:\n",
    "            right.append(i)\n",
    "    \n",
    "    return quick_sort_outplace(left) + [mid] + quick_sort_outplace(right)\n",
    "\n",
    "def quick_sort(arr:List[int]):\n",
    "    \"\"\"\n",
    "    快速排序(in-place)\n",
    "    :param arr: 待排序的List\n",
    "    :return: 快速排序是就地排序(in-place)\n",
    "    \"\"\"\n",
    "    quick_sort_between(arr,0, len(arr) - 1)\n",
    "    \n",
    "def quick_sort_between(arr: List[int], low: int, high: int):\n",
    "    if high-low <= 1: # 递归结束条件\n",
    "        return\n",
    "\n",
    "    m = partition(arr, low, high)  # arr[m] 作为划分标准\n",
    "    quick_sort_between(arr, low, m - 1)\n",
    "    quick_sort_between(arr, m + 1, high) \n",
    "\n",
    "def partition(arr: List[int], low: int, high: int):\n",
    "    pivot, j = arr[low], low\n",
    "    for i in range(low + 1, high + 1):\n",
    "        if arr[i] <= pivot:\n",
    "            j += 1\n",
    "            arr[j], arr[i] = arr[i], arr[j]\n",
    "    arr[low], arr[j] = arr[j], arr[low]\n",
    "    return j "
   ],
   "metadata": {
    "collapsed": false,
    "pycharm": {
     "name": "#%%\n",
     "is_executing": false
    }
   }
  },
  {
   "cell_type": "code",
   "execution_count": 2,
   "outputs": [
    {
     "name": "stdout",
     "text": [
      "原始数据： [17, 56, 71, 38, 61, 62, 48, 28, 57, 42]\n快速排序结果： [17, 28, 38, 42, 48, 56, 57, 61, 62, 71]\n"
     ],
     "output_type": "stream"
    }
   ],
   "source": [
    "if __name__ == '__main__':\n",
    "    import random\n",
    "    random.seed(54)\n",
    "    arr = [random.randint(0,100) for _ in range(10)]\n",
    "    # arr_new = quick_sort_outplace(arr)\n",
    "    # print(arr_new)\n",
    "    print(\"原始数据：\", arr)\n",
    "    quick_sort(arr)\n",
    "    print(\"快速排序结果：\", arr)"
   ],
   "metadata": {
    "collapsed": false,
    "pycharm": {
     "name": "#%%\n",
     "is_executing": false
    }
   }
  }
 ],
 "metadata": {
  "kernelspec": {
   "display_name": "Python 3",
   "language": "python",
   "name": "python3"
  },
  "language_info": {
   "codemirror_mode": {
    "name": "ipython",
    "version": 2
   },
   "file_extension": ".py",
   "mimetype": "text/x-python",
   "name": "python",
   "nbconvert_exporter": "python",
   "pygments_lexer": "ipython2",
   "version": "2.7.6"
  }
 },
 "nbformat": 4,
 "nbformat_minor": 0
}