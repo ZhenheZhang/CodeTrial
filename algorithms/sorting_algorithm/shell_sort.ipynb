{
 "cells": [
  {
   "cell_type": "markdown",
   "metadata": {
    "collapsed": true,
    "pycharm": {
     "name": "#%% md\n"
    }
   },
   "source": [
    "## 希尔排序(Shell Sort)\n",
    ">希尔排序属于插入排序的一种。也称缩小增量排序，是直接插入排序算法的一种更高效的改进版本,\n",
    ">该方法的基本思想是：先将整个待排元素序列分割成若干个子序列\n",
    ">（由相隔某个“增量”的元素组成的）分别进行直接插入排序，\n",
    ">然后依次缩减增量再进行排序，待整个序列中的元素基本有序（增量足够小）时，\n",
    ">再对全体元素进行一次直接插入排序。因为直接插入排序在元素基本有序的情况下\n",
    ">（接近最好情况），效率是很高的，因此希尔排序在时间效率比直接插入排序有较大提高。\n",
    "\n",
    "### 算法原理\n",
    "1. 选择一个增量序列t1，t2，…，tk，其中ti>tj，tk=1\n",
    "(增量的取法：第一次增量的取法为： d=count/2; \n",
    "第二次增量的取法为: d=(count/2)/2; 最后一直到: d=1;)；\n",
    "2. 按增量序列个数k，对序列进行k 趟排序；\n",
    "3. 每趟排序，根据对应的增量ti，将待排序列分割成若干长度为m 的子序列，分别对各子表进行直接插入排序。仅增量因子为1 时，整个序列作为一个表来处理，表长度即为整个序列的长度。\n"
   ]
  },
  {
   "cell_type": "code",
   "execution_count": 14,
   "outputs": [],
   "source": [
    "from typing import List\n",
    "\n",
    "def shell_sort(arr:List[int]):\n",
    "    \"\"\"\n",
    "    希尔排序\n",
    "    :param arr: 待排序的List\n",
    "    :return: 希尔排序是就地排序(in-place)\n",
    "    \"\"\"\n",
    "    length = len(arr)\n",
    "    dist = length // 2\n",
    "    \n",
    "    while dist > 0:\n",
    "        for i in range(dist, length):\n",
    "            temp = arr[i]\n",
    "            j = i\n",
    "            while j >= dist and temp < arr[j-dist]:\n",
    "                arr[j] = arr[j-dist]\n",
    "                j -= dist\n",
    "            arr[j] = temp\n",
    "        dist //= 2"
   ],
   "metadata": {
    "collapsed": false,
    "pycharm": {
     "name": "#%%\n",
     "is_executing": false
    }
   }
  },
  {
   "cell_type": "code",
   "execution_count": 15,
   "outputs": [
    {
     "name": "stdout",
     "text": [
      "原始数据： [17, 56, 71, 38, 61, 62, 48, 28, 57, 42]\n希尔排序结果： [17, 28, 38, 42, 48, 56, 57, 61, 62, 71]\n"
     ],
     "output_type": "stream"
    }
   ],
   "source": [
    "if __name__ == '__main__':\n",
    "    import random\n",
    "    random.seed(54)\n",
    "    arr = [random.randint(0,100) for _ in range(10)]\n",
    "    print(\"原始数据：\", arr)\n",
    "    shell_sort(arr)\n",
    "    print(\"希尔排序结果：\", arr)"
   ],
   "metadata": {
    "collapsed": false,
    "pycharm": {
     "name": "#%%\n",
     "is_executing": false
    }
   }
  }
 ],
 "metadata": {
  "kernelspec": {
   "display_name": "Python 3",
   "language": "python",
   "name": "python3"
  },
  "language_info": {
   "codemirror_mode": {
    "name": "ipython",
    "version": 2
   },
   "file_extension": ".py",
   "mimetype": "text/x-python",
   "name": "python",
   "nbconvert_exporter": "python",
   "pygments_lexer": "ipython2",
   "version": "2.7.6"
  }
 },
 "nbformat": 4,
 "nbformat_minor": 0
}