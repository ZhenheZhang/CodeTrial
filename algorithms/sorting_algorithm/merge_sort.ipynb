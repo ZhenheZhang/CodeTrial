{
 "cells": [
  {
   "cell_type": "markdown",
   "metadata": {
    "collapsed": true,
    "pycharm": {
     "name": "#%% md\n"
    }
   },
   "source": [
    "## 归并排序(Merge Sort)\n",
    ">归并排序也是一种非常高效的排序方式，其也用了分治的思想，\n",
    ">具体的代码可以写成递归的形式。首先将整个序列两两分开，\n",
    ">然后每组中的两个元素排好序。接着就是组与组和合并，\n",
    ">这个只需将两组所有的元素遍历一遍，即可按顺序合并。\n",
    ">以此类推，最终所有组合并为一组时，整个数列就已经排好序了。\n",
    "\n",
    "### 算法原理\n",
    "1. 把长度为n的输入序列分成两个长度为n/2的子序列；\n",
    "2. 对这两个子序列分别采用递归的进行排序；\n",
    "3. 将两个排序好的子序列排好的元素拿出来，按照顺序合并成一个最终的序列，即可完成排序。\n"
   ]
  },
  {
   "cell_type": "code",
   "execution_count": 1,
   "outputs": [],
   "source": [
    "from typing import List\n",
    "\n",
    "def merge(arr1:List[int], arr2:List[int]): \n",
    "    result = []\n",
    "    while arr1 and arr2:\n",
    "        if arr1[0] < arr2[0]:\n",
    "            result.append(arr1.pop(0))\n",
    "        else:\n",
    "            result.append(arr2.pop(0))\n",
    "    if arr1:\n",
    "        result += arr1\n",
    "    if arr2:\n",
    "        result += arr2\n",
    "    return result\n",
    "\n",
    "def merge_sort(arr:List[int]):\n",
    "    \"\"\"\n",
    "    归并排序\n",
    "    :param arr: 待排序的List\n",
    "    :return: 排好序的List\n",
    "    \"\"\"\n",
    "    if len(arr) <= 1:\n",
    "        return arr\n",
    "    mid = len(arr) // 2\n",
    "    return merge(merge_sort(arr[:mid]), merge_sort(arr[mid:]))"
   ],
   "metadata": {
    "collapsed": false,
    "pycharm": {
     "name": "#%%\n",
     "is_executing": false
    }
   }
  },
  {
   "cell_type": "code",
   "execution_count": 2,
   "outputs": [
    {
     "name": "stdout",
     "text": [
      "原始数据： [17, 56, 71, 38, 61, 62, 48, 28, 57, 42]\n归并排序结果： [17, 28, 38, 42, 48, 56, 57, 61, 62, 71]\n"
     ],
     "output_type": "stream"
    }
   ],
   "source": [
    "if __name__ == '__main__':\n",
    "    import random\n",
    "    random.seed(54)\n",
    "    arr = [random.randint(0,100) for _ in range(10)]\n",
    "    print(\"原始数据：\", arr)\n",
    "    arr_new = merge_sort(arr)\n",
    "    print(\"归并排序结果：\", arr_new)"
   ],
   "metadata": {
    "collapsed": false,
    "pycharm": {
     "name": "#%%\n",
     "is_executing": false
    }
   }
  }
 ],
 "metadata": {
  "kernelspec": {
   "display_name": "Python 3",
   "language": "python",
   "name": "python3"
  },
  "language_info": {
   "codemirror_mode": {
    "name": "ipython",
    "version": 2
   },
   "file_extension": ".py",
   "mimetype": "text/x-python",
   "name": "python",
   "nbconvert_exporter": "python",
   "pygments_lexer": "ipython2",
   "version": "2.7.6"
  }
 },
 "nbformat": 4,
 "nbformat_minor": 0
}