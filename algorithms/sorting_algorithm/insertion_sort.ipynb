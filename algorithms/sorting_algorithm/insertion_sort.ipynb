{
 "cells": [
  {
   "cell_type": "markdown",
   "metadata": {
    "collapsed": true,
    "pycharm": {
     "name": "#%% md\n"
    }
   },
   "source": [
    "## 插入排序(Insertion Sort)\n",
    ">插入排序的算法描述是一种简单直观的排序算法。\n",
    ">它的工作原理是通过构建有序序列，对于未排序数据，\n",
    ">在已排序序列中从后向前扫描，找到相应位置并插入。\n",
    "\n",
    "### 算法原理\n",
    "1. 从第一个元素开始，该元素可以认为已经被排序；\n",
    "2. 取出下一个元素，在已经排序的元素序列中从后向前扫描；\n",
    "3. 如果该元素（已排序）大于新元素，将该元素移到下一位置；\n",
    "4. 重复步骤3，直到找到已排序的元素小于或者等于新元素的位置；\n",
    "5. 将新元素插入到该位置后；\n",
    "6. 重复步骤2~5。\n"
   ]
  },
  {
   "cell_type": "code",
   "execution_count": 1,
   "outputs": [],
   "source": [
    "from typing import List\n",
    "\n",
    "def insertion_sort(arr: List[int]):\n",
    "    \"\"\"\n",
    "    插入排序\n",
    "    :param arr: 待排序List\n",
    "    :return: 插入排序是就地排序(in-place)\n",
    "    \"\"\"\n",
    "    length = len(arr)\n",
    "    if length <= 1:\n",
    "        return\n",
    "\n",
    "    for i in range(1, length):\n",
    "        value = arr[i]\n",
    "        j = i - 1\n",
    "        while j >= 0 and arr[j] > value:\n",
    "            arr[j + 1] = arr[j]\n",
    "            j -= 1\n",
    "        arr[j + 1] = value"
   ],
   "metadata": {
    "collapsed": false,
    "pycharm": {
     "name": "#%%\n",
     "is_executing": false
    }
   }
  },
  {
   "cell_type": "code",
   "execution_count": 2,
   "outputs": [
    {
     "name": "stdout",
     "text": [
      "原始数据： [17, 56, 71, 38, 61, 62, 48, 28, 57, 42]\n插入排序结果： [17, 28, 38, 42, 48, 56, 57, 61, 62, 71]\n"
     ],
     "output_type": "stream"
    }
   ],
   "source": [
    "if __name__ == '__main__':\n",
    "    import random\n",
    "    random.seed(54)\n",
    "    arr = [random.randint(0,100) for _ in range(10)]\n",
    "    print(\"原始数据：\", arr)\n",
    "    insertion_sort(arr)\n",
    "    print(\"插入排序结果：\", arr)"
   ],
   "metadata": {
    "collapsed": false,
    "pycharm": {
     "name": "#%%\n",
     "is_executing": false
    }
   }
  }
 ],
 "metadata": {
  "kernelspec": {
   "display_name": "Python 3",
   "language": "python",
   "name": "python3"
  },
  "language_info": {
   "codemirror_mode": {
    "name": "ipython",
    "version": 2
   },
   "file_extension": ".py",
   "mimetype": "text/x-python",
   "name": "python",
   "nbconvert_exporter": "python",
   "pygments_lexer": "ipython2",
   "version": "2.7.6"
  }
 },
 "nbformat": 4,
 "nbformat_minor": 0
}