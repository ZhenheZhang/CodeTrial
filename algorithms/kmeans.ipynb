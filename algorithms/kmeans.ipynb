{
 "cells": [
  {
   "cell_type": "code",
   "execution_count": 45,
   "metadata": {},
   "outputs": [],
   "source": [
    "# requirements\n",
    "\n",
    "import numpy as np\n",
    "import time\n",
    "import matplotlib.pyplot as plt\n"
   ]
  },
  {
   "cell_type": "code",
   "execution_count": 46,
   "metadata": {},
   "outputs": [],
   "source": [
    "class kmeans():\n",
    "    def __init__(self, data_path):\n",
    "        self.dataPath = data_path\n",
    "        self.dataSet = []   # python list\n",
    "        self.centroid = None # python declair without define\n",
    "\n",
    "\n",
    "    def dataIo(self, data_path):\n",
    "        with open(data_path) as in_file:\n",
    "            for line in in_file.readlines():\n",
    "                line_arr = line.strip().split(' ')\n",
    "                assert len(line_arr) == 2\n",
    "                self.dataSet.append([float(line_arr[0]), float(line_arr[1])])\n",
    "            self.dataSet = np.array(self.dataSet)\n",
    "    \n",
    "\n",
    "    def euclDistance(self, vector1, vector2):\n",
    "        return np.sqrt(sum((vector2 - vector1)**2))\n",
    "\n",
    "\n",
    "    def initCentroids(self, num_class):\n",
    "        num_sample, sample_dim = self.dataSet.shape\n",
    "        centroids = np.zeros((num_class, sample_dim))\n",
    "        for i in range(num_class):\n",
    "            index = int(np.random.uniform(0, num_sample))\n",
    "            centroids[i, :] = self.dataSet[index, :]\n",
    "        return centroids\n",
    "\n",
    "\n",
    "    def clustering(self, cluster_num_class):\n",
    "        centroids = self.initCentroids(cluster_num_class)\n",
    "        print(centroids)\n",
    "        num_sample, sample_dim = self.dataSet.shape\n",
    "        cluster_assignment = np.mat(np.zeros((num_sample, sample_dim)))\n",
    "\n",
    "        # clustering in loop\n",
    "        iter_clustering = True\n",
    "        iter_num = 0\n",
    "        while iter_clustering:\n",
    "            print(\"iteration[{}] ...\".format(iter_num))\n",
    "            iter_num += 1\n",
    "            iter_clustering = False\n",
    "            for i in range(num_sample):\n",
    "                minDist = 1000000.0\n",
    "                minIndex = 0 \n",
    "                for j in range(cluster_num_class):\n",
    "                    dist = self.euclDistance(centroids[j, :], self.dataSet[i, :])\n",
    "                    if dist < minDist:\n",
    "                        minDist = dist\n",
    "                        minIndex = j\n",
    "                    \n",
    "                if cluster_assignment[i, 0] != minIndex:\n",
    "                    iter_clustering = True\n",
    "                    cluster_assignment[i, :] = minIndex, minDist**2\n",
    "                \n",
    "            for i in range(cluster_num_class):\n",
    "                samples_in_cluster = self.dataSet[np.nonzero(cluster_assignment[:, 0] == i)[0]]\n",
    "                centroids[i, :] = np.mean(samples_in_cluster, axis=0)\n",
    "            \n",
    "        self.centroid = centroids\n",
    "        return centroids, cluster_assignment\n",
    "    \n",
    "\n",
    "    def membership():\n",
    "        pass\n",
    "\n",
    "\n",
    "    def centroids(self):\n",
    "        return self.centroid\n",
    "\n",
    "\n",
    "    def visualization(self, cluster_num, centroids, cluster_assignment):\n",
    "        '''\n",
    "            visualization\n",
    "        '''\n",
    "        num_sample, sample_dim = self.dataSet.shape\n",
    "        mark = ['or', 'ob', 'og', 'ok', '^r', '+r', 'sr', 'dr', '<r', 'pr']\n",
    "\n",
    "        for i in range(num_sample):\n",
    "            markIndex = int(cluster_assignment[i, 0])\n",
    "            plt.plot(self.dataSet[i, 0], self.dataSet[i, 1], mark[markIndex])\n",
    "\n",
    "        mark = ['Dr', 'Db', 'Dg', 'Dk', '^b', '+b', 'sb', 'db', '<b', 'pb']\n",
    "        for i in range(cluster_num):\n",
    "            plt.plot(centroids[i, 0], centroids[i, 1], mark[i], ms=12.0)\n",
    "        plt.show()\n",
    "\n",
    "\n",
    "    def demo(self):\n",
    "        '''\n",
    "            main\n",
    "        '''\n",
    "        cluster_class_num = 3\n",
    "        self.dataIo(self.dataPath)\n",
    "        centroids, cluster_assignment = self.clustering(cluster_class_num)\n",
    "        self.visualization(cluster_class_num, centroids, cluster_assignment)\n",
    "        print('centroids:')\n",
    "        print(self.centroids())\n",
    "\n"
   ]
  },
  {
   "cell_type": "code",
   "execution_count": 49,
   "metadata": {},
   "outputs": [
    {
     "name": "stdout",
     "output_type": "stream",
     "text": [
      "[[ 0.939512 -4.023563]\n",
      " [ 2.562539  2.884438]\n",
      " [-2.786837 -3.099354]]\n",
      "iteration[0] ...\n",
      "iteration[1] ...\n",
      "iteration[2] ...\n",
      "iteration[3] ...\n",
      "iteration[4] ...\n"
     ]
    },
    {
     "data": {
      "image/png": "[encoded data removed]",
      "text/plain": [
       "<Figure size 640x480 with 1 Axes>"
      ]
     },
     "metadata": {},
     "output_type": "display_data"
    },
    {
     "name": "stdout",
     "output_type": "stream",
     "text": [
      "centroids:\n",
      "[[ 2.91638209 -2.60950823]\n",
      " [ 0.26072634  3.07919258]\n",
      " [-3.30208654 -3.14190142]]\n"
     ]
    }
   ],
   "source": [
    "km = kmeans(data_path='../data/dataset.txt')\n",
    "km.demo()"
   ]
  }
 ],
 "metadata": {
  "kernelspec": {
   "display_name": "py37",
   "language": "python",
   "name": "python3"
  },
  "language_info": {
   "codemirror_mode": {
    "name": "ipython",
    "version": 3
   },
   "file_extension": ".py",
   "mimetype": "text/x-python",
   "name": "python",
   "nbconvert_exporter": "python",
   "pygments_lexer": "ipython3",
   "version": "3.7.15 (default, Nov 24 2022, 18:44:54) [MSC v.1916 64 bit (AMD64)]"
  },
  "orig_nbformat": 4,
  "vscode": {
   "interpreter": {
    "hash": "f46f602a9fb80e9e2e49bf94182631528f06d646b9958424248b38c6e6bffff3"
   }
  }
 },
 "nbformat": 4,
 "nbformat_minor": 2
}
