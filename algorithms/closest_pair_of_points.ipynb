{
 "cells": [
  {
   "cell_type": "code",
   "execution_count": 5,
   "metadata": {},
   "outputs": [
    {
     "name": "stdout",
     "output_type": "stream",
     "text": [
      "The smallest square distance is 1\n"
     ]
    }
   ],
   "source": [
    "# Advanced algorithm: Divide and Conquer\n",
    "import copy\n",
    "\n",
    "def dist(p1, p2):\n",
    "    return pow(p1[0] - p2[0], 2) + pow(p1[1] - p2[1], 2) \n",
    "  \n",
    "def bruteForce(P, n):\n",
    "    min_val = float('inf') \n",
    "    for i in range(n):\n",
    "        for j in range(i + 1, n):\n",
    "            if dist(P[i], P[j]) < min_val:\n",
    "                min_val = dist(P[i], P[j])\n",
    "    return min_val\n",
    "\n",
    "def stripClosest(strip, size, d):\n",
    "    # Initialize the minimum distance as d \n",
    "    min_val = d \n",
    "    for i in range(size):\n",
    "        j = i + 1\n",
    "        while j < size and (strip[j][1] - strip[i][1]) < min_val:\n",
    "            min_val = dist(strip[i], strip[j])\n",
    "            j += 1\n",
    "    return min_val \n",
    "\n",
    "# algorithm core: Iterative\n",
    "def closestUtil(P, Q, n):\n",
    "    if n <= 3: \n",
    "        return bruteForce(P, n) \n",
    "    mid = n // 2\n",
    "    midPoint = P[mid]\n",
    "    Pl = P[:mid]\n",
    "    Pr = P[mid:]\n",
    "    dl = closestUtil(Pl, Q, mid)\n",
    "    dr = closestUtil(Pr, Q, n - mid)\n",
    "    d = min(dl, dr)\n",
    "    stripP = []\n",
    "    stripQ = []\n",
    "    lr = Pl + Pr\n",
    "    for i in range(n):\n",
    "        if abs(lr[i][0] - midPoint[0]) < d: \n",
    "            stripP.append(lr[i])\n",
    "        if abs(Q[i][0] - midPoint[0]) < d: \n",
    "            stripQ.append(Q[i])\n",
    "    stripP.sort(key = lambda point: point[1])\n",
    "    min_a = min(d, stripClosest(stripP, len(stripP), d)) \n",
    "    min_b = min(d, stripClosest(stripQ, len(stripQ), d))\n",
    "    return min(min_a,min_b)\n",
    "  \n",
    "def closest(P, n):\n",
    "    P.sort(key = lambda point: point[0])\n",
    "    Q = copy.deepcopy(P)\n",
    "    Q.sort(key = lambda point: point[1])\n",
    "    return closestUtil(P, Q, n)\n",
    "  \n",
    "# Driver code\n",
    "x = [0,2,3,4]\n",
    "y = [1,4,6,2]\n",
    "P = [[0,1], [2,4], [3,6], [4,2]]\n",
    "n = len(P)\n",
    "print(\"The smallest square distance is\", closest(P, n))\n"
   ]
  }
 ],
 "metadata": {
  "kernelspec": {
   "display_name": "py37",
   "language": "python",
   "name": "python3"
  },
  "language_info": {
   "codemirror_mode": {
    "name": "ipython",
    "version": 3
   },
   "file_extension": ".py",
   "mimetype": "text/x-python",
   "name": "python",
   "nbconvert_exporter": "python",
   "pygments_lexer": "ipython3",
   "version": "3.7.15"
  },
  "orig_nbformat": 4,
  "vscode": {
   "interpreter": {
    "hash": "f46f602a9fb80e9e2e49bf94182631528f06d646b9958424248b38c6e6bffff3"
   }
  }
 },
 "nbformat": 4,
 "nbformat_minor": 2
}
