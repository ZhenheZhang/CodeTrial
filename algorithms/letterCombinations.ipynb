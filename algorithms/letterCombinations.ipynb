{
 "cells": [
  {
   "cell_type": "code",
   "execution_count": 10,
   "metadata": {},
   "outputs": [
    {
     "name": "stdout",
     "output_type": "stream",
     "text": [
      "['g', 'h', 'i']\n",
      "['d', 'e', 'f']\n",
      "['dg', 'eg', 'fg', 'dh', 'eh', 'fh', 'di', 'ei', 'fi']\n",
      "['a', 'b', 'c']\n"
     ]
    },
    {
     "data": {
      "text/plain": [
       "['adg',\n",
       " 'bdg',\n",
       " 'cdg',\n",
       " 'aeg',\n",
       " 'beg',\n",
       " 'ceg',\n",
       " 'afg',\n",
       " 'bfg',\n",
       " 'cfg',\n",
       " 'adh',\n",
       " 'bdh',\n",
       " 'cdh',\n",
       " 'aeh',\n",
       " 'beh',\n",
       " 'ceh',\n",
       " 'afh',\n",
       " 'bfh',\n",
       " 'cfh',\n",
       " 'adi',\n",
       " 'bdi',\n",
       " 'cdi',\n",
       " 'aei',\n",
       " 'bei',\n",
       " 'cei',\n",
       " 'afi',\n",
       " 'bfi',\n",
       " 'cfi']"
      ]
     },
     "execution_count": 10,
     "metadata": {},
     "output_type": "execute_result"
    }
   ],
   "source": [
    "digit_table = {2: ['a','b','c'],\n",
    "               3: ['d','e','f'],\n",
    "               4: ['g','h','i'],\n",
    "               5: ['j','k','l'],\n",
    "               6: ['m','n','o'],\n",
    "               7: ['p','q','r','s'],\n",
    "               8: ['t','u','v'],\n",
    "               9: ['w','x','y','z']\n",
    "               }\n",
    "\n",
    "def letterCombinations(digits):\n",
    "    \"\"\"\n",
    "    :type digits: str\n",
    "    :rtype: List[str]\n",
    "    \"\"\"\n",
    "\n",
    "    ret_str = []\n",
    "    if len(digits) == 0: \n",
    "        return []\n",
    "    if len(digits) == 1:\n",
    "        return digit_table[int(digits[0])]\n",
    "    # recursive\n",
    "    result = letterCombinations(digits[1:])\n",
    "    for r in result:\n",
    "        for j in digit_table[int(digits[0])]:\n",
    "            ret_str.append(j + r)\n",
    "    return ret_str\n",
    "\n",
    "\n",
    "def charCombinations(digits):\n",
    "    \"\"\"\n",
    "    :type digits: str\n",
    "    :rtype: List[str]\n",
    "    \"\"\"\n",
    "    ret_str = []\n",
    "    for i in range(len(digits)):\n",
    "        for j in range(len(digits)):\n",
    "            ret_str.append(digits[i] + digits[j])\n",
    "    return ret_str\n",
    "\n",
    "\n",
    "letterCombinations('234')\n",
    "# charCombinations('abcd')\n",
    "\n",
    "\n",
    "\n"
   ]
  }
 ],
 "metadata": {
  "kernelspec": {
   "display_name": "py37",
   "language": "python",
   "name": "python3"
  },
  "language_info": {
   "codemirror_mode": {
    "name": "ipython",
    "version": 3
   },
   "file_extension": ".py",
   "mimetype": "text/x-python",
   "name": "python",
   "nbconvert_exporter": "python",
   "pygments_lexer": "ipython3",
   "version": "3.7.15"
  },
  "orig_nbformat": 4,
  "vscode": {
   "interpreter": {
    "hash": "f46f602a9fb80e9e2e49bf94182631528f06d646b9958424248b38c6e6bffff3"
   }
  }
 },
 "nbformat": 4,
 "nbformat_minor": 2
}
