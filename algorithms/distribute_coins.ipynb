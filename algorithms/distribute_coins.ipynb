{
 "cells": [
  {
   "cell_type": "code",
   "execution_count": 15,
   "metadata": {},
   "outputs": [],
   "source": [
    "\"\"\"\n",
    "leetcode: https://leetcode.com/problems/distribute-coins-in-binary-tree/\n",
    "\n",
    "Implementation notes:\n",
    "User depth-first search approach.\n",
    "\n",
    "Let n is the number of nodes in tree\n",
    "Runtime: O(n)\n",
    "Space: O(1)\n",
    "\"\"\"\n",
    "\n",
    "from __future__ import annotations\n",
    "from dataclasses import dataclass\n"
   ]
  },
  {
   "cell_type": "code",
   "execution_count": 37,
   "metadata": {},
   "outputs": [],
   "source": [
    "@dataclass\n",
    "class TreeNode:\n",
    "    data: int\n",
    "    left: TreeNode | None = None\n",
    "    right: TreeNode | None = None\n",
    "\n",
    "\n",
    "# Validation\n",
    "def count_nodes(node: TreeNode | None) -> int:\n",
    "    if node is None:\n",
    "        return 0\n",
    "    return count_nodes(node.left) + count_nodes(node.right) + 1\n",
    "\n",
    "\n",
    "def count_coins(node: TreeNode | None) -> int:\n",
    "    if node is None:\n",
    "        return 0\n",
    "    return count_coins(node.left) + count_coins(node.right) + node.data\n",
    "\n",
    "\n",
    "# Main calculation\n",
    "def get_distrib(node: TreeNode | None) -> list[int]:\n",
    "    if node is None:\n",
    "        return [0, 1]\n",
    "\n",
    "    [left_distrib_moves, left_distrib_excess] = get_distrib(node.left)\n",
    "    [right_distrib_moves, right_distrib_excess] = get_distrib(node.right)\n",
    "    print(node.data, ':[left={}]'.format(node.left.data if node.left is not None else None), [left_distrib_moves, left_distrib_excess])\n",
    "    print(node.data, ':[right={}]'.format(node.right.data if node.right is not None else None), [right_distrib_moves, right_distrib_excess])\n",
    "\n",
    "    coins_to_left = 1 - left_distrib_excess\n",
    "    coins_to_right = 1 - right_distrib_excess\n",
    "\n",
    "    result_moves = left_distrib_moves + right_distrib_moves + abs(coins_to_left) + abs(coins_to_right)\n",
    "    result_excess = node.data - coins_to_left - coins_to_right\n",
    "    print(node.data, ':', [result_moves, result_excess])\n",
    "    return [result_moves, result_excess]\n",
    "\n",
    "\n",
    "def distribute_coins(root: TreeNode | None) -> int:\n",
    "    if root is None:\n",
    "        return 0\n",
    "\n",
    "    if count_nodes(root) != count_coins(root):\n",
    "        raise ValueError(\"The nodes number should be same as the number of coins\")\n",
    "\n",
    "    return get_distrib(root)\n"
   ]
  },
  {
   "cell_type": "code",
   "execution_count": 38,
   "metadata": {},
   "outputs": [
    {
     "name": "stdout",
     "output_type": "stream",
     "text": [
      "4 :[left=None] [0, 1]\n",
      "4 :[right=None] [0, 1]\n",
      "4 : [0, 4]\n",
      "0 :[left=None] [0, 1]\n",
      "0 :[right=None] [0, 1]\n",
      "0 : [0, 0]\n",
      "0 :[left=4] [0, 4]\n",
      "0 :[right=0] [0, 0]\n",
      "0 : [4, 2]\n",
      "1 :[left=None] [0, 1]\n",
      "1 :[right=None] [0, 1]\n",
      "1 : [0, 1]\n",
      "0 :[left=None] [0, 1]\n",
      "0 :[right=1] [0, 1]\n",
      "0 : [0, 0]\n",
      "1 :[left=0] [4, 2]\n",
      "1 :[right=0] [0, 0]\n",
      "1 : [6, 1]\n",
      "[6, 1]\n"
     ]
    }
   ],
   "source": [
    "def make_tree():\n",
    "    \"\"\"\n",
    "    The example:\n",
    "\n",
    "    \"\"\"\n",
    "    root = TreeNode(1)\n",
    "    root.left = TreeNode(0)\n",
    "    root.right = TreeNode(0)\n",
    "    root.left.left = TreeNode(4)\n",
    "    root.left.right = TreeNode(0)\n",
    "    root.right.right = TreeNode(1)\n",
    "    return root\n",
    "\n",
    "\n",
    "if __name__ == \"__main__\":\n",
    "    coin_tree = make_tree()\n",
    "    print(distribute_coins(coin_tree))\n"
   ]
  }
 ],
 "metadata": {
  "kernelspec": {
   "display_name": "py37",
   "language": "python",
   "name": "python3"
  },
  "language_info": {
   "codemirror_mode": {
    "name": "ipython",
    "version": 3
   },
   "file_extension": ".py",
   "mimetype": "text/x-python",
   "name": "python",
   "nbconvert_exporter": "python",
   "pygments_lexer": "ipython3",
   "version": "3.7.15 (default, Nov 24 2022, 18:44:54) [MSC v.1916 64 bit (AMD64)]"
  },
  "orig_nbformat": 4,
  "vscode": {
   "interpreter": {
    "hash": "f46f602a9fb80e9e2e49bf94182631528f06d646b9958424248b38c6e6bffff3"
   }
  }
 },
 "nbformat": 4,
 "nbformat_minor": 2
}
