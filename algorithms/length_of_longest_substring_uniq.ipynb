{
 "cells": [
  {
   "cell_type": "code",
   "execution_count": 13,
   "metadata": {},
   "outputs": [
    {
     "name": "stdout",
     "output_type": "stream",
     "text": [
      "0 []\n",
      "1 []\n",
      "2 []\n",
      "3 []\n",
      "4 []\n",
      "5 []\n",
      "6 []\n",
      "7 []\n",
      "8 []\n",
      "9 []\n",
      "10 []\n",
      "['abcde', 'bcde', 'cdeb', 'deb', 'eb', 'b', 'bg', 'g', 'gc', 'c', 'cfg']\n"
     ]
    },
    {
     "data": {
      "text/plain": [
       "5"
      ]
     },
     "execution_count": 13,
     "metadata": {},
     "output_type": "execute_result"
    }
   ],
   "source": [
    "def lengthOfLongestSubstring(s):\n",
    "    \"\"\"\n",
    "    type s str\n",
    "    rtype int\n",
    "    \"\"\"\n",
    "    \n",
    "    search_index = 0\n",
    "    substring_list = []\n",
    "    s_char_list = []\n",
    "    while search_index <= len(s):\n",
    "        print(search_index, s_char_list)\n",
    "        start_index = search_index\n",
    "        for i in range(start_index, len(s)):\n",
    "            if s[i] not in s_char_list:\n",
    "                s_char_list.append(s[i])\n",
    "            else:\n",
    "                substring_list.append(\"\".join(s_char_list))\n",
    "                s_char_list = []\n",
    "                search_index += 1\n",
    "                break\n",
    "        if search_index == start_index:\n",
    "            break\n",
    "\n",
    "    if s_char_list != []:\n",
    "        substring_list.append(\"\".join(s_char_list))\n",
    "    print(substring_list)\n",
    "    max_len = len(substring_list[0])\n",
    "    for substr in substring_list:\n",
    "        max_len = max(max_len, len(substr))\n",
    "    \n",
    "    return max_len\n",
    "\n",
    "\n",
    "lengthOfLongestSubstring('abcdebbggccfg')"
   ]
  }
 ],
 "metadata": {
  "kernelspec": {
   "display_name": "py37",
   "language": "python",
   "name": "python3"
  },
  "language_info": {
   "codemirror_mode": {
    "name": "ipython",
    "version": 3
   },
   "file_extension": ".py",
   "mimetype": "text/x-python",
   "name": "python",
   "nbconvert_exporter": "python",
   "pygments_lexer": "ipython3",
   "version": "3.7.15"
  },
  "orig_nbformat": 4,
  "vscode": {
   "interpreter": {
    "hash": "f46f602a9fb80e9e2e49bf94182631528f06d646b9958424248b38c6e6bffff3"
   }
  }
 },
 "nbformat": 4,
 "nbformat_minor": 2
}
