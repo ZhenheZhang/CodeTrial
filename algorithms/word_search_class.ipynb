{
 "cells": [
  {
   "cell_type": "code",
   "execution_count": 1,
   "metadata": {},
   "outputs": [],
   "source": [
    "\"\"\"\n",
    "Task:\n",
    "Given an m x n grid of characters board and a string word,\n",
    "return true if word exists in the grid.\n",
    "\n",
    "The word can be constructed from letters of sequentially adjacent cells,\n",
    "where adjacent cells are horizontally or vertically neighboring.\n",
    "The same letter cell may not be used more than once.\n",
    "\n",
    "Example:\n",
    "\n",
    "Matrix:\n",
    "---------\n",
    "|A|B|C|E|\n",
    "|S|F|C|S|\n",
    "|A|D|E|E|\n",
    "---------\n",
    "\n",
    "Word:\n",
    "\"ABCCED\"\n",
    "\n",
    "Result:\n",
    "True\n",
    "\n",
    "Implementation notes: Use backtracking approach.\n",
    "At each point, check all neighbors to try to find the next letter of the word.\n",
    "\n",
    "leetcode: https://leetcode.com/problems/word-search/\n",
    "\n",
    "\"\"\"\n",
    "\n",
    "from __future__ import annotations\n"
   ]
  },
  {
   "cell_type": "code",
   "execution_count": 10,
   "metadata": {},
   "outputs": [],
   "source": [
    "class wordSearch():\n",
    "    def __init__(self, board: list[list[str]]) -> None:\n",
    "        self.board = board\n",
    "        self.row_size = len(board)\n",
    "        self.column_size = len(board[0])\n",
    "        # self.row_index = 0\n",
    "        # self.column_index = 0\n",
    "        self.tgt_word = ''\n",
    "        self.tgt_word_length = 0\n",
    "        self.visited_point_set = []\n",
    "        self.__traverts_directions = [(0, 1), (0, -1), (-1, 0), (1, 0)]\n",
    "\n",
    "\n",
    "    def loadTgtWord(self, word: str) -> None:\n",
    "        self.tgt_word = word\n",
    "        self.tgt_word_length = len(word)\n",
    "\n",
    "    \n",
    "    def get_point_key(self, row: int, column: int) -> int:\n",
    "        return int(row * self.column_size + column) \n",
    "\n",
    "\n",
    "    def exists_word(self, row: int, column: int, word_index: int) -> bool:\n",
    "        if self.board[row][column] != self.tgt_word[word_index]:\n",
    "            return False\n",
    "\n",
    "        if word_index == self.tgt_word_length - 1:\n",
    "            return True\n",
    "\n",
    "        for direction in self.__traverts_directions:\n",
    "            next_i = row + direction[0]\n",
    "            next_j = column + direction[1]\n",
    "            if not (0 <= next_i < self.row_size and 0 <= next_j < self.column_size):\n",
    "                continue\n",
    "\n",
    "            key = self.get_point_key(next_i, next_j)\n",
    "            if key in self.visited_point_set:\n",
    "                continue\n",
    "\n",
    "            self.visited_point_set.append(key)\n",
    "            if self.exists_word(next_i, next_j, word_index + 1):\n",
    "                return True\n",
    "\n",
    "            self.visited_point_set.remove(key)\n",
    "\n",
    "        return False\n",
    "\n",
    "\n",
    "    def word_exists(self) -> bool:\n",
    "        for i in range(self.row_size):\n",
    "            for j in range(self.column_size):\n",
    "                self.visited_point_set.append(self.get_point_key(i, j))\n",
    "                if self.exists_word(i, j, 0):\n",
    "                    return True\n",
    "\n",
    "        return False\n",
    "    "
   ]
  },
  {
   "cell_type": "code",
   "execution_count": 14,
   "metadata": {},
   "outputs": [
    {
     "name": "stdout",
     "output_type": "stream",
     "text": [
      "False\n"
     ]
    }
   ],
   "source": [
    "def make_board() -> list[list[str]]:\n",
    "    \"\"\"\n",
    "    Matrix:\n",
    "    ---------\n",
    "    |A|B|C|E|\n",
    "    |S|F|C|S|\n",
    "    |A|D|E|E|\n",
    "    ---------\n",
    "\n",
    "    \"\"\"\n",
    "    board = [['A', 'B', 'C', 'E'],\n",
    "             ['S', 'F', 'C', 'S'],\n",
    "             ['A', 'D', 'E', 'E']]\n",
    "    return board\n",
    "\n",
    "\n",
    "if __name__ == \"__main__\":\n",
    "    board = make_board()\n",
    "    tgt_word = 'ABCCEC'\n",
    "    word_search = wordSearch(board=board)\n",
    "    word_search.loadTgtWord(word=tgt_word)\n",
    "    print(word_search.word_exists())\n"
   ]
  }
 ],
 "metadata": {
  "kernelspec": {
   "display_name": "py37",
   "language": "python",
   "name": "python3"
  },
  "language_info": {
   "codemirror_mode": {
    "name": "ipython",
    "version": 3
   },
   "file_extension": ".py",
   "mimetype": "text/x-python",
   "name": "python",
   "nbconvert_exporter": "python",
   "pygments_lexer": "ipython3",
   "version": "3.7.15"
  },
  "orig_nbformat": 4,
  "vscode": {
   "interpreter": {
    "hash": "f46f602a9fb80e9e2e49bf94182631528f06d646b9958424248b38c6e6bffff3"
   }
  }
 },
 "nbformat": 4,
 "nbformat_minor": 2
}
