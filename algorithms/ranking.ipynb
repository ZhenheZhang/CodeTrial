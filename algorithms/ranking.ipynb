{
 "cells": [
  {
   "cell_type": "code",
   "execution_count": 5,
   "metadata": {},
   "outputs": [],
   "source": [
    "from typing import List\n",
    "\n",
    "def make_testcase() -> List[str]:\n",
    "    folder_list = ['100abcd', '1000defg', '200ghkls', '456asvsdff', '4516asvsdxff',\n",
    "                   '101abcd', '10a00defg', '200ghkl', 's456asvsdff', '4a56asvsdxff',\n",
    "                   '10a0abcd', '10100defg', 'bv200ghkls', '1456asvsdff', '4c56asvsdxff',\n",
    "                   '1000dabcd', '100aa0defg', '2x00ghkls', '2456asvsdff', '45dd6asvsdxff']\n",
    "    return folder_list"
   ]
  },
  {
   "cell_type": "code",
   "execution_count": 3,
   "metadata": {},
   "outputs": [],
   "source": [
    "def segment_folder_name(input_str : str) -> List[str]:\n",
    "    str_sub_module = []\n",
    "    is_digit_concat = False\n",
    "    str_digits = ''\n",
    "    str_alphabets = ''\n",
    "    for i in range(len(input_str)):\n",
    "        if input_str[i].isdigit():\n",
    "            if str_alphabets != '':\n",
    "                str_sub_module.append(str_alphabets)\n",
    "                str_alphabets = ''\n",
    "            # concatenate digits\n",
    "            if is_digit_concat:\n",
    "                str_digits += input_str[i]\n",
    "            else:\n",
    "                str_digits = input_str[i]\n",
    "            is_digit_concat = True\n",
    "            # the last element\n",
    "            if i == len(input_str) - 1:\n",
    "                str_sub_module.append(str_digits)\n",
    "        else:\n",
    "            # concatenate alphabets\n",
    "            if str_digits != '':\n",
    "                str_sub_module.append(str_digits)\n",
    "                str_digits = ''\n",
    "                str_alphabets = input_str[i]\n",
    "            else:\n",
    "                str_alphabets += input_str[i]\n",
    "                # the last element\n",
    "                if i == len(input_str) - 1:\n",
    "                    str_sub_module.append(str_alphabets)\n",
    "    return str_sub_module\n",
    "\n",
    "\n",
    "def less_than(s1 : str, s2 : str) -> bool:\n",
    "    s1_segs = segment_folder_name(s1)\n",
    "    s2_segs = segment_folder_name(s2)\n",
    "    iter_num = min(len(s1_segs), len(s2_segs))\n",
    "    for i in range(iter_num):\n",
    "        if s1_segs[i] == s2_segs[i]:\n",
    "            continue\n",
    "        if s1_segs[i].isdigit():\n",
    "            if s2_segs[i].isdigit():\n",
    "                return int(s1_segs[i]) < int(s2_segs[i])\n",
    "            else:\n",
    "                return True\n",
    "        else:\n",
    "            if s2_segs[i].isdigit():\n",
    "                return False\n",
    "            else:\n",
    "                return s1_segs[i] < s2_segs[i]\n",
    "    # Cmp the rest: sub modules above are the same\n",
    "    if len(s1_segs) > iter_num:\n",
    "        return False\n",
    "    elif len(s2_segs) > iter_num:\n",
    "        return True\n",
    "    else:\n",
    "        raise TypeError(\"Two String are the same! '{}' '{}'\".format(s1, s2))\n",
    "\n",
    "\n",
    "def ranking(folder_list: List[str]) -> dict:\n",
    "    L = len(folder_list)\n",
    "    rank_dict = {}\n",
    "    for i in range(L):\n",
    "        rank_dict[folder_list[i]] = 0\n",
    "    \n",
    "    for i in range(L):\n",
    "        for j in range(L):\n",
    "            if i != j:\n",
    "                if less_than(folder_list[i], folder_list[j]):\n",
    "                    rank_dict[folder_list[i]] += 1\n",
    "    \n",
    "    rank_dict_sorted = dict(sorted(rank_dict.items(), key=lambda item: item[1], reverse=True))\n",
    "    return rank_dict_sorted\n"
   ]
  },
  {
   "cell_type": "code",
   "execution_count": 6,
   "metadata": {},
   "outputs": [
    {
     "name": "stdout",
     "output_type": "stream",
     "text": [
      "{'2x00ghkls': 19, '4a56asvsdxff': 18, '4c56asvsdxff': 17, '10a00defg': 15, '10a0abcd': 15, '45dd6asvsdxff': 14, '100aa0defg': 13, '100abcd': 12, '101abcd': 11, '200ghkl': 10, '200ghkls': 9, '456asvsdff': 8, '1000dabcd': 7, '1000defg': 6, '1456asvsdff': 5, '2456asvsdff': 4, '4516asvsdxff': 3, '10100defg': 2, 'bv200ghkls': 1, 's456asvsdff': 0}\n"
     ]
    }
   ],
   "source": [
    "def main():\n",
    "    test_case = make_testcase()\n",
    "    rank_dict = ranking(test_case)\n",
    "    print(rank_dict)\n",
    "\n",
    "\n",
    "if __name__ == '__main__':\n",
    "    main()\n",
    "    "
   ]
  }
 ],
 "metadata": {
  "kernelspec": {
   "display_name": "py37",
   "language": "python",
   "name": "python3"
  },
  "language_info": {
   "codemirror_mode": {
    "name": "ipython",
    "version": 3
   },
   "file_extension": ".py",
   "mimetype": "text/x-python",
   "name": "python",
   "nbconvert_exporter": "python",
   "pygments_lexer": "ipython3",
   "version": "3.7.15"
  },
  "orig_nbformat": 4,
  "vscode": {
   "interpreter": {
    "hash": "f46f602a9fb80e9e2e49bf94182631528f06d646b9958424248b38c6e6bffff3"
   }
  }
 },
 "nbformat": 4,
 "nbformat_minor": 2
}
