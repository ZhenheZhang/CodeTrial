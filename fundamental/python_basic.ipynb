{
 "cells": [
  {
   "cell_type": "code",
   "execution_count": 15,
   "metadata": {},
   "outputs": [
    {
     "name": "stdout",
     "output_type": "stream",
     "text": [
      "<class 'str'>\n",
      "True\n"
     ]
    }
   ],
   "source": [
    "'''\n",
    "DATA Type\n",
    "'''\n",
    "fin = 30.5\n",
    "fin_str = str(fin)\n",
    "print(type(fin_str))\n",
    "print(isinstance(fin_str, str))"
   ]
  },
  {
   "cell_type": "code",
   "execution_count": 14,
   "metadata": {},
   "outputs": [
    {
     "name": "stdout",
     "output_type": "stream",
     "text": [
      "优秀\n"
     ]
    }
   ],
   "source": [
    "'''\n",
    "IF Condition\n",
    "'''\n",
    "# s = int(input(\"请输入分数:\"))\n",
    "s = 85\n",
    "if 80 >= s >= 60:\n",
    "    print(\"及格\")\n",
    "elif 80 < s <= 90:\n",
    "    print(\"优秀\")\n",
    "elif 90 < s <= 100:\n",
    "    print(\"非常优秀\")\n",
    "else:\n",
    "    print(\"不及格\")\n",
    "    if s > 50:\n",
    "        print(\"你的分数在60分左右\")\n",
    "    else:\n",
    "        print(\"你的分数低于50分\")"
   ]
  },
  {
   "cell_type": "code",
   "execution_count": 13,
   "metadata": {},
   "outputs": [
    {
     "name": "stdout",
     "output_type": "stream",
     "text": [
      "[456, 564, 78, 9, 8, 6, 5, 4, 6, 3, 2, 2, 1]\n",
      "5\n",
      "[456, 564, 78, 9, 8, 6, 5, 4, 6, 3, 2, 2, 1, 100, 200, [300, 400]]\n",
      "[456, 564, [500, 600], 78, 9, 8, 6, 5, 4, 6, 3, 2, 2, 1, 100, 200, [300, 400]]\n",
      "[456, 564, 78, 9, 8, 6, 5, 4, 6, 3, 2, 2, 1, 100, 200]\n",
      "[456, 564, 78, 9, 8, 6, 5, 4, 6, 3, 2, 2, 1, 100, 200]\n",
      "2\n",
      "[1, 2, 2, 3, 4, 5, 6, 6, 8, 9, 78, 100, 200, 456, 564]\n",
      "['VW', 'BMW', 'Ford', 'Mitsubishi']\n"
     ]
    }
   ],
   "source": [
    "'''\n",
    "LIST Op\n",
    "'''\n",
    "l = [1,2,2,3,6,4,5,6,8,9,78,564,456]\n",
    "l.reverse()\n",
    "print(l)\n",
    "print(l.index(6, 0, 9))\n",
    "l.extend([100, 200])\n",
    "l.extend([[300, 400]])\n",
    "print(l)\n",
    "l.insert(2, [500, 600])\n",
    "print(l)\n",
    "del l[2]\n",
    "del l[-1]\n",
    "print(l)\n",
    "import copy\n",
    "new = copy.deepcopy(l)\n",
    "print(new)\n",
    "print(new.count(6))\n",
    "new.sort()\n",
    "print(new)\n",
    "# A function that returns the length of the value:\n",
    "def myFunc(e):\n",
    "  return len(e)\n",
    "cars = ['Ford', 'Mitsubishi', 'BMW', 'VW']\n",
    "cars.sort(key=myFunc)\n",
    "print(cars)\n"
   ]
  },
  {
   "cell_type": "code",
   "execution_count": 16,
   "metadata": {},
   "outputs": [
    {
     "name": "stdout",
     "output_type": "stream",
     "text": [
      "(2, 3, 4)\n",
      "[1, 2, 3, 4, 5]\n",
      "[1, 2, 6, 4, 5]\n",
      "(1, 2, 6, 4, 5)\n"
     ]
    }
   ],
   "source": [
    "'''\n",
    "Tuple Op\n",
    "'''\n",
    "t = (1,2,3,4,5)\n",
    "print(t[1:4])\n",
    "l = list(t)\n",
    "print(l)\n",
    "l[2]=6\n",
    "print(l)\n",
    "t=tuple(l)\n",
    "print(t)"
   ]
  },
  {
   "cell_type": "code",
   "execution_count": 23,
   "metadata": {},
   "outputs": [
    {
     "name": "stdout",
     "output_type": "stream",
     "text": [
      "PYTHON IS BETTER THAN THE OTHERS\n",
      "python is better than the others\n",
      "Python is better than the others\n",
      "python is better than the others\n",
      "b'python is Better Than the others'\n",
      "python is Better Than the others\n",
      "3\n",
      "2\n",
      "2\n",
      "C++ JAVA C# 嘿嘿\n"
     ]
    }
   ],
   "source": [
    "'''\n",
    "String Op\n",
    "'''\n",
    "a = 'python is Better Than the others'\n",
    "print(a.upper())\n",
    "print(a.lower())\n",
    "print(a.capitalize())\n",
    "print(a.casefold())\n",
    "print(a.encode())\n",
    "print(a.encode().decode())\n",
    "print(a.count('th'))\n",
    "print(a.count('th', 0, 24))\n",
    "print(a.find('th', 0, 24)) # return index of start (\"t\")\n",
    "s = \"{a} {b} {c} 嘿嘿\"\n",
    "s2 = s.format(b=\"JAVA\",a=\"C++\",c=\"C#\")\n",
    "print(s2)"
   ]
  },
  {
   "cell_type": "code",
   "execution_count": 24,
   "metadata": {},
   "outputs": [
    {
     "name": "stdout",
     "output_type": "stream",
     "text": [
      "1\n"
     ]
    }
   ],
   "source": [
    "'''\n",
    "Global\n",
    "'''\n",
    "gcount = 0\n",
    " \n",
    "def global_test():\n",
    "    global  gcount\n",
    "    gcount+=1\n",
    "    print (gcount)\n",
    "global_test()"
   ]
  },
  {
   "cell_type": "code",
   "execution_count": 28,
   "metadata": {},
   "outputs": [
    {
     "name": "stdout",
     "output_type": "stream",
     "text": [
      "1\n",
      "2\n",
      "3\n"
     ]
    }
   ],
   "source": [
    "'''\n",
    "Nonlocal 嵌套\n",
    "'''\n",
    "def make_counter():\n",
    "    count = 0\n",
    "    def counter():\n",
    "        nonlocal count\n",
    "        count += 1\n",
    "        return count\n",
    "    return counter\n",
    "\n",
    "def make_counter_test():\n",
    "  mc = make_counter()\n",
    "  print(mc())\n",
    "  print(mc())\n",
    "  print(mc())\n",
    "\n",
    "make_counter_test()"
   ]
  },
  {
   "cell_type": "code",
   "execution_count": 30,
   "metadata": {},
   "outputs": [
    {
     "name": "stdout",
     "output_type": "stream",
     "text": [
      "After local assignmane: test spam\n",
      "After nonlocal assignment: nonlocal spam\n",
      "After global assignment: nonlocal spam\n",
      "In global scope: global spam\n"
     ]
    }
   ],
   "source": [
    "'''\n",
    "Global + nonlocal 混合使用: 奇葩的例子, 避免这么用 :(\n",
    "'''\n",
    "def scope_test():\n",
    "    def do_local():\n",
    "        spam = \"local spam\" #此处的spam和外层的spam是两个变量，如果写出spam = spam + “local spam” 会报错\n",
    "    def do_nonlocal():\n",
    "        nonlocal spam      #使用外层的spam变量\n",
    "        spam = \"nonlocal spam\"\n",
    "    def do_global():\n",
    "        global spam\n",
    "        spam = \"global spam\"\n",
    "\n",
    "    spam = \"test spam\"\n",
    "    do_local()\n",
    "    print(\"After local assignmane:\",spam)\n",
    "    do_nonlocal()\n",
    "    print(\"After nonlocal assignment:\",spam)\n",
    "    do_global()\n",
    "    print(\"After global assignment:\",spam)\n",
    " \n",
    "scope_test()\n",
    "print(\"In global scope:\",spam)"
   ]
  },
  {
   "cell_type": "code",
   "execution_count": 36,
   "metadata": {},
   "outputs": [
    {
     "name": "stdout",
     "output_type": "stream",
     "text": [
      "process id: 11432 - parent process id: 12020\n",
      "凉凉\n",
      "process id: 11432 - parent process id: 12020\n",
      "最亲的人\n"
     ]
    },
    {
     "name": "stdout",
     "output_type": "stream",
     "text": [
      "凉凉\n",
      "最亲的人\n"
     ]
    }
   ],
   "source": [
    "'''\n",
    "Thread\n",
    "'''\n",
    "import threading\n",
    "import time\n",
    "import os\n",
    "#多线程的创建\n",
    "class MyThread(threading.Thread):\n",
    "    def __init__(self,name):\n",
    "        super().__init__()\n",
    "        self.name = name\n",
    "    def run(self):\n",
    "        #线程要做的事情\n",
    "        print('process id:', os.getpid(), '-', 'parent process id:', os.getppid())\n",
    "        for i in range(2):\n",
    "            print(self.name)\n",
    "            time.sleep(0.2)\n",
    " #实例化子线程\n",
    "t1 = MyThread(\"凉凉\")\n",
    "t2 = MyThread(\"最亲的人\")\n",
    "t1.start()\n",
    "t2.start()"
   ]
  },
  {
   "cell_type": "code",
   "execution_count": 1,
   "metadata": {},
   "outputs": [
    {
     "name": "stdout",
     "output_type": "stream",
     "text": [
      "main line\n",
      "module name: __main__\n",
      "process id: 16544 - parent process id: 3324\n",
      "Process created.\n"
     ]
    }
   ],
   "source": [
    "'''\n",
    "MultiProcessing: https://docs.python.org/2/library/multiprocessing.html\n",
    "'''\n",
    "from multiprocessing import Process\n",
    "import os\n",
    "\n",
    "def info(title):\n",
    "    print(title)\n",
    "    print('module name:', __name__)\n",
    "    if hasattr(os, 'getppid'):  # only available on Unix\n",
    "        print('process id:', os.getpid(), '-', 'parent process id:', os.getppid())\n",
    "\n",
    "def func(name):\n",
    "    info(title='function f')\n",
    "    print('hello', name)\n",
    "\n",
    "if __name__ == '__main__':\n",
    "    info(title='main line')\n",
    "    p = Process(target=func, args=('bob',))\n",
    "    print('Process created.')\n",
    "    p.start()\n",
    "    p.join()\n"
   ]
  },
  {
   "cell_type": "code",
   "execution_count": 1,
   "metadata": {},
   "outputs": [],
   "source": [
    "'''\n",
    "MultiProcessing and Queue\n",
    "'''\n",
    "from multiprocessing import Process, Queue\n",
    "\n",
    "def f(q):\n",
    "    q.put([42, None, 'hello'])\n",
    "\n",
    "if __name__ == '__main__':\n",
    "    q = Queue()\n",
    "    p = Process(target=f, args=(q,))\n",
    "    p.start()\n",
    "    print(q.get())    # prints \"[42, None, 'hello']\"\n",
    "    p.join()"
   ]
  },
  {
   "cell_type": "code",
   "execution_count": 2,
   "metadata": {},
   "outputs": [],
   "source": [
    "'''\n",
    "MultiProcessing APPLY ASYNC\n",
    "'''\n",
    "\n",
    "from multiprocessing import Pool, TimeoutError\n",
    "import time\n",
    "import os\n",
    "\n",
    "def f(x):\n",
    "    return x*x\n",
    "\n",
    "if __name__ == '__main__':\n",
    "    pool = Pool(processes=4)         # start 4 worker processes\n",
    "    print(pool.map(f, range(10)))    # print \"[0, 1, 4,..., 81]\"\n",
    "    # print same numbers in arbitrary order\n",
    "    for i in pool.imap_unordered(f, range(10)):\n",
    "        print(i)\n",
    "    # evaluate \"f(20)\" asynchronously\n",
    "    res = pool.apply_async(f, (20,))      # runs in *only* one process\n",
    "    print(res.get(timeout=1))             # prints \"400\"\n",
    "    # evaluate \"os.getpid()\" asynchronously\n",
    "    res = pool.apply_async(os.getpid, ()) # runs in *only* one process\n",
    "    print(res.get(timeout=1))             # prints the PID of that process\n",
    "    # launching multiple evaluations asynchronously *may* use more processes\n",
    "    multiple_results = [pool.apply_async(os.getpid, ()) for i in range(4)]\n",
    "    print([res.get(timeout=1) for res in multiple_results])\n",
    "    # make a single worker sleep for 10 secs\n",
    "    res = pool.apply_async(time.sleep, (10,))\n",
    "    try:\n",
    "        print(res.get(timeout=1))\n",
    "    except TimeoutError:\n",
    "        print(\"We lacked patience and got a multiprocessing.TimeoutError\")\n"
   ]
  },
  {
   "attachments": {},
   "cell_type": "markdown",
   "metadata": {},
   "source": [
    "'''\n",
    "File operation\n",
    "'''\n",
    "\n",
    "模式\t描述\n",
    "r       以只读的形式打开文件，文件的指针在开头\n",
    "r+\t    读写，文件指针在开头\n",
    "rb\t    以二进制的形式只读文件指针在开头\n",
    "w\t    只写，文件不存在，则创建新的，存在则覆盖，指针在开头\n",
    "w+\t    读写，文件不存在，则创建新的，存在则覆盖，指针在开头\n",
    "wb\t    只写，以二进制的形式\n",
    "a\t    追加模式，文件指针在结尾\n",
    "a+\t    读写，不存在则创建，存在直接追加\n",
    "ab\t    以二进制形式追加"
   ]
  },
  {
   "attachments": {},
   "cell_type": "markdown",
   "metadata": {},
   "source": [
    "'''\n",
    "OS模块 关于文件/文件夹的功能\n",
    "'''\n",
    "\n",
    "序号\t方法\t                       说明\n",
    "1\t    os.rename(原文件名,新的文件名)  文件重命名\n",
    "2\t    os.remove(文件名)\t           删除文件\n",
    "3   \tmkdir(文件夹名字)\t           创建文件夹\n",
    "4\t    rmdir(文件夹名字)              删除文件夹\n",
    "5\t    getcwd()                      获取当前目录\n",
    "6\t    chdir（目录）                  切换目录\n",
    "7\t    listdir()                     获取当前文件夹下所有文件或文件夹，返回一个列表listdir(‘aa’)  #获取aa文件下所有文件或文件夹，返回一个列表"
   ]
  },
  {
   "attachments": {},
   "cell_type": "markdown",
   "metadata": {},
   "source": [
    "'''\n",
    "正则\n",
    "'''\n",
    "\n",
    "序号\t函数\t                    说明\n",
    "1\t    re.compile(正则表达式)\t    编译正则\n",
    "2\t    match()\t                   决定re是否在字符串刚开始的位置（匹配行首）\n",
    "3\t    search()\t               扫描字符串，找到这个re匹配的位置（仅仅是第一个查到的）\n",
    "4\t    findall()\t               找到re匹配的所有字符串，返回一个列表\n",
    "5\t    group()\t                   返回re匹配的字符串\n",
    "6\t    start()\t                   返回匹配开始的位置\n",
    "7\t    end()\t                   返回匹配结束的位置\n",
    "8\t    span()\t                   返回一个元组：（开始,结束）的位置\n",
    "9\t    findall()\t               根据正则表达式返回匹配到的所有字符串\n",
    "10\t    sub(正则,新字符串,原字符串)\t 替换字符串\n",
    "11\t    subn(正则,新字符串,原字符串) 替换字符串，并返回替换的次数\n",
    "12\t    split()                    分割字符串"
   ]
  }
 ],
 "metadata": {
  "kernelspec": {
   "display_name": "py37",
   "language": "python",
   "name": "python3"
  },
  "language_info": {
   "codemirror_mode": {
    "name": "ipython",
    "version": 3
   },
   "file_extension": ".py",
   "mimetype": "text/x-python",
   "name": "python",
   "nbconvert_exporter": "python",
   "pygments_lexer": "ipython3",
   "version": "3.7.15"
  },
  "orig_nbformat": 4,
  "vscode": {
   "interpreter": {
    "hash": "f46f602a9fb80e9e2e49bf94182631528f06d646b9958424248b38c6e6bffff3"
   }
  }
 },
 "nbformat": 4,
 "nbformat_minor": 2
}
