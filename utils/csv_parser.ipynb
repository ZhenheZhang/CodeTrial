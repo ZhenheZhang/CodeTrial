{
 "cells": [
  {
   "cell_type": "code",
   "execution_count": 10,
   "metadata": {},
   "outputs": [],
   "source": [
    "from __future__ import annotations\n",
    "import csv\n"
   ]
  },
  {
   "cell_type": "code",
   "execution_count": 8,
   "metadata": {},
   "outputs": [],
   "source": [
    "def parser(csv_file) -> list[list[str]]:\n",
    "    annotation_data = []\n",
    "    with open(csv_file, newline='') as f:\n",
    "        reader = csv.reader(f)\n",
    "        next(reader, None) # skip the headers\n",
    "        for row in reader:\n",
    "            annotation_data.append(row)\n",
    "    return annotation_data\n",
    "\n",
    "\n",
    "def writer(annotation_data: list[list[str]], write_filename: str) -> None:\n",
    "    # create meta\n",
    "    csv.register_dialect('meta', delimiter=',')\n",
    "    header = [\"wav_filename\", \"wav_filesize\", \"transcript\"]\n",
    "    rows = []\n",
    "    # parsing\n",
    "    for data in annotation_data:\n",
    "        assert len(data) == 3\n",
    "        rows.append({\"wav_filename\": data[0],\n",
    "                    \"wav_filesize\": data[1],\n",
    "                    \"transcript\": data[2]})\n",
    "    # write meta\n",
    "    with open(write_filename, 'w', newline='') as meta_csv:\n",
    "        csv_writer = csv.DictWriter(meta_csv, \n",
    "        fieldnames=header,\n",
    "        dialect='meta',\n",
    "        extrasaction='ignore')\n",
    "        csv_writer.writeheader()\n",
    "        csv_writer.writerows(rows)\n"
   ]
  },
  {
   "cell_type": "code",
   "execution_count": 9,
   "metadata": {},
   "outputs": [],
   "source": [
    "def main():\n",
    "    csv_file = '../data/data2load.csv'\n",
    "    writer(parser(csv_file), 'parser.csv')\n",
    "\n",
    "\n",
    "if __name__ == \"__main__\":\n",
    "    main()\n",
    "    "
   ]
  }
 ],
 "metadata": {
  "kernelspec": {
   "display_name": "py37",
   "language": "python",
   "name": "python3"
  },
  "language_info": {
   "codemirror_mode": {
    "name": "ipython",
    "version": 3
   },
   "file_extension": ".py",
   "mimetype": "text/x-python",
   "name": "python",
   "nbconvert_exporter": "python",
   "pygments_lexer": "ipython3",
   "version": "3.7.15"
  },
  "orig_nbformat": 4,
  "vscode": {
   "interpreter": {
    "hash": "f46f602a9fb80e9e2e49bf94182631528f06d646b9958424248b38c6e6bffff3"
   }
  }
 },
 "nbformat": 4,
 "nbformat_minor": 2
}
