{
 "cells": [
  {
   "cell_type": "code",
   "execution_count": 1,
   "metadata": {},
   "outputs": [],
   "source": [
    "from __future__ import annotations\n",
    "import json\n"
   ]
  },
  {
   "cell_type": "code",
   "execution_count": 6,
   "metadata": {},
   "outputs": [],
   "source": [
    "def parser(json_file):\n",
    "    annotation_data = []\n",
    "    with open(json_file) as jfile:\n",
    "        for line in jfile:\n",
    "            j_seg = json.loads(line)\n",
    "            annotation_data.append(j_seg)\n",
    "    return annotation_data\n",
    "\n",
    "\n",
    "def writer(annotation_data, write_filename) -> None:\n",
    "    entries = []\n",
    "    for data in annotation_data:\n",
    "        entry = {}\n",
    "        entry['audio_filepath'] = data['audio_filepath']\n",
    "        entry['duration'] = data['audio_filepath']\n",
    "        entry['text'] = data['audio_filepath']\n",
    "        entries.append(entry)\n",
    "\n",
    "    with open(write_filename, 'w', encoding='utf-8') as fout:\n",
    "        for row in entries:\n",
    "            fout.write(json.dumps(row, ensure_ascii=False) + '\\n')\n"
   ]
  },
  {
   "cell_type": "code",
   "execution_count": 7,
   "metadata": {},
   "outputs": [],
   "source": [
    "def main():\n",
    "    json_file = '../data/data2load.json'\n",
    "    writer(parser(json_file), 'parser.json')\n",
    "\n",
    "\n",
    "if __name__ == \"__main__\":\n",
    "    main()\n",
    "    "
   ]
  }
 ],
 "metadata": {
  "kernelspec": {
   "display_name": "py37",
   "language": "python",
   "name": "python3"
  },
  "language_info": {
   "codemirror_mode": {
    "name": "ipython",
    "version": 3
   },
   "file_extension": ".py",
   "mimetype": "text/x-python",
   "name": "python",
   "nbconvert_exporter": "python",
   "pygments_lexer": "ipython3",
   "version": "3.7.15"
  },
  "orig_nbformat": 4,
  "vscode": {
   "interpreter": {
    "hash": "f46f602a9fb80e9e2e49bf94182631528f06d646b9958424248b38c6e6bffff3"
   }
  }
 },
 "nbformat": 4,
 "nbformat_minor": 2
}
