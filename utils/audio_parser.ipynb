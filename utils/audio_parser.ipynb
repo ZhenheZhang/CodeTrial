{
 "cells": [
  {
   "cell_type": "code",
   "execution_count": 1,
   "metadata": {},
   "outputs": [],
   "source": [
    "from scipy.io import wavfile"
   ]
  },
  {
   "cell_type": "code",
   "execution_count": 12,
   "metadata": {},
   "outputs": [
    {
     "name": "stdout",
     "output_type": "stream",
     "text": [
      "sample rate: 44100Hz\n",
      "num of samples: 1135338\n",
      "duration is 25.7446s\n"
     ]
    }
   ],
   "source": [
    "sample_rate, data = wavfile.read('../data/raw/120695.wav')\n",
    "print('sample rate: {}Hz'.format(sample_rate))\n",
    "print('num of samples: {}'.format(len(data)))\n",
    "print('duration is {:.4f}s'.format(len(data) / sample_rate))"
   ]
  }
 ],
 "metadata": {
  "kernelspec": {
   "display_name": "py37",
   "language": "python",
   "name": "python3"
  },
  "language_info": {
   "codemirror_mode": {
    "name": "ipython",
    "version": 3
   },
   "file_extension": ".py",
   "mimetype": "text/x-python",
   "name": "python",
   "nbconvert_exporter": "python",
   "pygments_lexer": "ipython3",
   "version": "3.7.15"
  },
  "orig_nbformat": 4,
  "vscode": {
   "interpreter": {
    "hash": "f46f602a9fb80e9e2e49bf94182631528f06d646b9958424248b38c6e6bffff3"
   }
  }
 },
 "nbformat": 4,
 "nbformat_minor": 2
}
